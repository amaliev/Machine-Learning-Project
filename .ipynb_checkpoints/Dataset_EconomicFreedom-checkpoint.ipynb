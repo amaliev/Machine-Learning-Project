{
 "cells": [
  {
   "cell_type": "markdown",
   "metadata": {},
   "source": [
    "# Preprocessing"
   ]
  },
  {
   "cell_type": "code",
   "execution_count": 1,
   "metadata": {},
   "outputs": [],
   "source": [
    "import numpy as np;\n",
    "import csv;\n",
    "X = [];\n",
    "with open('Econ_Freedom_Data.csv') as csv_file:\n",
    "    csv_reader = csv.reader(csv_file, delimiter=',');\n",
    "    for row in csv_reader:\n",
    "        if row[0] == \"2016\":\n",
    "            v = [];\n",
    "            for i in range(6,36) :\n",
    "                if (row[i]==\"\") :\n",
    "                    v.append(-1.0);\n",
    "                else :\n",
    "                    v.append(float(row[i]));\n",
    "            X.append(v);\n",
    "i = 0;\n",
    "while i < np.shape(X)[0] :\n",
    "    v = X[i];\n",
    "    if -1.0 in v :\n",
    "        X = np.delete(X,i,0);\n",
    "    else :\n",
    "        i = i+1;\n",
    "meanv = np.repeat(np.reshape(np.asmatrix(X.mean(0)),(1,np.shape(X)[1])),np.shape(X)[0],axis=0);\n",
    "stdv = np.repeat(np.reshape(np.asmatrix(X.std(0)),(1,np.shape(X)[1])),np.shape(X)[0],axis=0);\n",
    "Xs = (X-meanv) / stdv;"
   ]
  },
  {
   "cell_type": "markdown",
   "metadata": {},
   "source": [
    "# k-Means Clustering (Lester Fan)"
   ]
  },
  {
   "cell_type": "markdown",
   "metadata": {},
   "source": [
    "# Gaussian Mixture Model (Bill Lee)"
   ]
  },
  {
   "cell_type": "code",
   "execution_count": 2,
   "metadata": {},
   "outputs": [],
   "source": [
    "from scipy.stats import multivariate_normal\n",
    "\n",
    "def computePi(probability_matrix,j):\n",
    "    extract_column = probability_matrix[:,j]\n",
    "    total_col = sum(extract_column)\n",
    "    return total_col/probability_matrix.shape[0]\n",
    "\n",
    "def computeMu(probability_matrix,dataset,j):\n",
    "    total_px = np.zeros((1,dataset.shape[1]))\n",
    "    for i in range(len(dataset)):\n",
    "        total_px += (probability_matrix[i][j]*dataset[i])\n",
    "    extract_column = probability_matrix[:,j]\n",
    "    total_col = sum(extract_column)\n",
    "    return total_px/total_col\n",
    "\n",
    "def computeCov(probability_matrix,dataset,j,mu):\n",
    "    total_cov = np.zeros((dataset.shape[1],dataset.shape[1]))\n",
    "    for i in range(len(dataset)):\n",
    "        xMinusMean = dataset[i] - mu\n",
    "        total_cov += probability_matrix[i][j]*(xMinusMean@xMinusMean.T)\n",
    "    extract_column = probability_matrix[:,j]\n",
    "    total_col = sum(extract_column)\n",
    "    return (1/total_col)*(total_cov)  \n",
    "\n",
    "def parent_pdf(datapoint,Pi,Mu,Cov,numberOfClusters):\n",
    "    # Computes the f_X(x)\n",
    "    total = 0\n",
    "    for j in range(numberOfClusters):\n",
    "        total += Pi[j]*(multivariate_normal.pdf(datapoint, Mu[j], Cov[j]))\n",
    "    return total\n",
    "\n",
    "def Pij_times_fj(Pi_j, Mu_j, Cov_j, j, datapoint):\n",
    "    return Pi_j*multivariate_normal.pdf(datapoint, mean=Mu_j, cov=Cov_j)\n",
    "\n",
    "def emAlgorithm(dataset,numberOfClusters):\n",
    "    # Expectation Maximization Algorithm\n",
    "    \n",
    "    Pi = [(1/numberOfClusters) for i in range(numberOfClusters)]\n",
    "    Mu = [10*np.random.rand(dataset.shape[1]) for i in range(numberOfClusters)]\n",
    "    Sigma = [np.identity(dataset.shape[1]) for i in range(numberOfClusters)]\n",
    "    \n",
    "    didNotConverge = True\n",
    "    probability_matrix = np.zeros((dataset.shape[0],numberOfClusters))\n",
    "    epsilon = 10\n",
    "    while didNotConverge:\n",
    "        Theta = [Pi, Mu, Sigma]\n",
    "        didNotConverge = False\n",
    "        # Estimation\n",
    "        for i in range(dataset.shape[0]):\n",
    "            denominator = parent_pdf(dataset[i],Pi,Mu,Sigma,numberOfClusters)\n",
    "            for j in range(numberOfClusters):\n",
    "                probability_matrix[i][j] = Pij_times_fj(Pi[j],Mu[j],Sigma[j],j,dataset[i])/denominator\n",
    "        # Maximization\n",
    "        for j in range(numberOfClusters):\n",
    "            Pi[j] = computePi(probability_matrix,j)\n",
    "            Mu[j] = computeMu(probability_matrix,dataset,j)\n",
    "            Sigma[j] = computeCov(probability_matrix,dataset,j,Mu[j])\n",
    "        \n",
    "        # Check Convergence\n",
    "        for j in range(numberOfClusters):\n",
    "            difference = np.linalg.norm(Theta[1][j]-Mu[j])\n",
    "            if(difference > 0.1):\n",
    "                didNotConverge = True\n",
    "    return [Pi, Mu, Sigma]\n",
    "\n",
    "\n",
    "U,S,V = np.linalg.svd(Xs.T)\n",
    "reduced = (U[:,[0,1]].T@Xs.T)\n",
    "\n",
    "out = emAlgorithm(reduced.T,5)\n"
   ]
  },
  {
   "cell_type": "code",
   "execution_count": 8,
   "metadata": {},
   "outputs": [
    {
     "data": {
      "text/plain": [
       "<matplotlib.collections.PathCollection at 0x2503dd64438>"
      ]
     },
     "execution_count": 8,
     "metadata": {},
     "output_type": "execute_result"
    },
    {
     "data": {
      "image/png": "[encoded data removed]",
      "text/plain": [
       "<Figure size 432x288 with 1 Axes>"
      ]
     },
     "metadata": {},
     "output_type": "display_data"
    }
   ],
   "source": [
    "import mpl_toolkits.mplot3d\n",
    "from matplotlib import pyplot as plt\n",
    "\n",
    "xset = reduced[0].tolist()[0]\n",
    "yset = reduced[1].tolist()[0]\n",
    "\n",
    "fig = plt.figure()\n",
    "ax = fig.add_subplot(111) \n",
    "ax.scatter(xset,yset,c='r')\n",
    "\n",
    "\n",
    "mxset = []\n",
    "myset = []\n",
    "for each in out[1]:\n",
    "    mxset.append(each.tolist()[0][0])\n",
    "    myset.append(each.tolist()[0][1])\n",
    "    \n",
    "def plotErrorEllipse(mu, Sigma, p) :\n",
    "    s = -2 * log(1 - p);\n",
    "    [V, D] = np.linalg.eig(Sigma * s);\n",
    "    t = np.linspace(0, 2 * pi);\n",
    "    a = (V * (D**0.5)) * [cos(t[:]).T, sin(t[:]).T];\n",
    "\n",
    "#     plot(a(1, :) + mu(1), a(2, :) + mu(2));\n",
    "    \n",
    "ax.scatter(mxset,myset,c='b')\n",
    "    \n",
    "    "
   ]
  },
  {
   "cell_type": "markdown",
   "metadata": {},
   "source": [
    "# Spectral Clustering (Anton Maliev)"
   ]
  },
  {
   "cell_type": "code",
   "execution_count": null,
   "metadata": {},
   "outputs": [],
   "source": [
    "from sklearn.cluster import SpectralClustering;\n",
    "sc1 = SpectralClustering(3, n_init=100, assign_labels='discretize', affinity='rbf');\n",
    "labels1 = sc1.fit(X).labels_;\n",
    "colors1 = ['r' if x==0 else 'b' if x==1 else 'g' for x in labels1];\n",
    "\n",
    "sc2 = SpectralClustering(3, n_init=100, assign_labels='kmeans', affinity='rbf');\n",
    "labels2 = sc2.fit(X).labels_;\n",
    "colors2 = ['r' if x==0 else 'b' if x==1 else 'g' for x in labels2];\n",
    "\n",
    "sc3 = SpectralClustering(3, n_init=100, assign_labels='discretize', affinity='nearest_neighbors');\n",
    "labels3 = sc3.fit(X).labels_;\n",
    "colors3 = ['r' if x==0 else 'b' if x==1 else 'g' for x in labels3];\n",
    "\n",
    "sc4 = SpectralClustering(3, n_init=100, assign_labels='kmeans', affinity='nearest_neighbors');\n",
    "labels4 = sc4.fit(X).labels_;\n",
    "colors4 = ['r' if x==0 else 'b' if x==1 else 'g' for x in labels4];\n",
    "\n",
    "fig = plt.figure();\n",
    "ax1 = fig.add_subplot(221);\n",
    "ax1.scatter([reduced[0,:]],[reduced[1,:]],c=colors1);\n",
    "ax2 = fig.add_subplot(222);\n",
    "ax2.scatter([reduced[0,:]],[reduced[1,:]],c=colors2);\n",
    "ax3 = fig.add_subplot(223);\n",
    "ax3.scatter([reduced[0,:]],[reduced[1,:]],c=colors3);\n",
    "ax4 = fig.add_subplot(224);\n",
    "ax4.scatter([reduced[0,:]],[reduced[1,:]],c=colors4);"
   ]
  },
  {
   "cell_type": "markdown",
   "metadata": {},
   "source": []
  }
 ],
 "metadata": {
  "kernelspec": {
   "display_name": "Python 3",
   "language": "python",
   "name": "python3"
  },
  "language_info": {
   "codemirror_mode": {
    "name": "ipython",
    "version": 3
   },
   "file_extension": ".py",
   "mimetype": "text/x-python",
   "name": "python",
   "nbconvert_exporter": "python",
   "pygments_lexer": "ipython3",
   "version": "3.6.5"
  }
 },
 "nbformat": 4,
 "nbformat_minor": 2
}
