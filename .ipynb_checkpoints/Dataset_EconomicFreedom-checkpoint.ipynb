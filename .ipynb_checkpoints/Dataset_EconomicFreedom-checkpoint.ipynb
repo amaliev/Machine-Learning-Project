{
 "cells": [
  {
   "cell_type": "markdown",
   "metadata": {},
   "source": [
    "# Preprocessing"
   ]
  },
  {
   "cell_type": "code",
   "execution_count": 2,
   "metadata": {},
   "outputs": [],
   "source": [
    "import numpy as np;\n",
    "import csv;\n",
    "X = [];\n",
    "with open('Econ_Freedom_Data.csv') as csv_file:\n",
    "    csv_reader = csv.reader(csv_file, delimiter=',');\n",
    "    for row in csv_reader:\n",
    "        if row[0] == \"2016\":\n",
    "            v = [];\n",
    "            for i in range(6,36) :\n",
    "                if (row[i]==\"\") :\n",
    "                    v.append(-1.0);\n",
    "                else :\n",
    "                    v.append(float(row[i]));\n",
    "            X.append(v);\n",
    "i = 0;\n",
    "while i < np.shape(X)[0] :\n",
    "    v = X[i];\n",
    "    if -1.0 in v :\n",
    "        X = np.delete(X,i,0);\n",
    "    else :\n",
    "        i = i+1;\n",
    "meanv = np.repeat(np.reshape(np.asmatrix(X.mean(0)),(1,np.shape(X)[1])),np.shape(X)[0],axis=0);\n",
    "stdv = np.repeat(np.reshape(np.asmatrix(X.std(0)),(1,np.shape(X)[1])),np.shape(X)[0],axis=0);\n",
    "Xs = (X-meanv) / stdv;"
   ]
  },
  {
   "cell_type": "markdown",
   "metadata": {},
   "source": [
    "# k-Means Clustering (Lester Fan)"
   ]
  },
  {
   "cell_type": "markdown",
   "metadata": {},
   "source": [
    "# Gaussian Mixture Model (Bill Lee)"
   ]
  },
  {
   "cell_type": "code",
   "execution_count": 73,
   "metadata": {},
   "outputs": [],
   "source": [
    "from scipy.stats import multivariate_normal\n",
    "\n",
    "def computePi(probability_matrix,j):\n",
    "    extract_column = probability_matrix[:,j]\n",
    "    total_col = sum(extract_column)\n",
    "    return total_col/probability_matrix.shape[0]\n",
    "\n",
    "def computeMu(probability_matrix,dataset,j):\n",
    "    total_px = np.zeros((1,dataset.shape[1]))\n",
    "    for i in range(len(dataset)):\n",
    "        total_px += (probability_matrix[i][j]*dataset[i])\n",
    "    extract_column = probability_matrix[:,j]\n",
    "    total_col = sum(extract_column)\n",
    "    return total_px/total_col\n",
    "\n",
    "def computeCov(probability_matrix,dataset,j,mu):\n",
    "    total_cov = np.zeros((dataset.shape[1],dataset.shape[1]))\n",
    "    for i in range(len(dataset)):\n",
    "        xMinusMean = dataset[i] - mu\n",
    "        total_cov += probability_matrix[i][j]*(xMinusMean@xMinusMean.T)\n",
    "    extract_column = probability_matrix[:,j]\n",
    "    total_col = sum(extract_column)\n",
    "    return (1/total_col)*(total_cov)  \n",
    "\n",
    "def parent_pdf(datapoint,Pi,Mu,Cov,numberOfClusters):\n",
    "    # Computes the f_X(x)\n",
    "    total = 0\n",
    "    for j in range(numberOfClusters):\n",
    "        total += Pi[j]*(multivariate_normal.pdf(datapoint, Mu[j], Cov[j]))\n",
    "    return total\n",
    "\n",
    "def Pij_times_fj(Pi_j, Mu_j, Cov_j, j, datapoint):\n",
    "    return Pi_j*multivariate_normal.pdf(datapoint, mean=Mu_j, cov=Cov_j)\n",
    "\n",
    "def emAlgorithm(dataset,numberOfClusters):\n",
    "    # Expectation Maximization Algorithm\n",
    "    \n",
    "    Pi = [(1/numberOfClusters) for i in range(numberOfClusters)]\n",
    "    Mu = [np.random.rand(dataset.shape[1]) for i in range(numberOfClusters)]\n",
    "    Sigma = [np.identity(dataset.shape[1]) for i in range(numberOfClusters)]\n",
    "    \n",
    "    didNotConverge = True\n",
    "    probability_matrix = np.zeros((dataset.shape[0],numberOfClusters))\n",
    "    epsilon = 10\n",
    "    while didNotConverge:\n",
    "        Theta = [Pi, Mu, Sigma]\n",
    "        didNotConverge = False\n",
    "        # Estimation\n",
    "        for i in range(dataset.shape[0]):\n",
    "            denominator = parent_pdf(dataset[i],Pi,Mu,Sigma,numberOfClusters)\n",
    "            for j in range(numberOfClusters):\n",
    "                probability_matrix[i][j] = Pij_times_fj(Pi[j],Mu[j],Sigma[j],j,dataset[i])/denominator\n",
    "        # Maximization\n",
    "        for j in range(numberOfClusters):\n",
    "            Pi[j] = computePi(probability_matrix,j)\n",
    "            Mu[j] = computeMu(probability_matrix,dataset,j)\n",
    "            Sigma[j] = computeCov(probability_matrix,dataset,j,Mu[j])\n",
    "        \n",
    "        # Check Convergence\n",
    "        for j in range(numberOfClusters):\n",
    "            difference = np.linalg.norm(Theta[1][j]-Mu[j])\n",
    "            if(difference > 0.1):\n",
    "                didNotConverge = True\n",
    "    return [Pi, Mu, Sigma]\n",
    "\n",
    "\n",
    "U,S,V = np.linalg.svd(Xs.T)\n",
    "reduced = (U[:,[0,1]].T@Xs.T).T\n",
    "\n",
    "out = emAlgorithm(reduced,3)\n"
   ]
  },
  {
   "cell_type": "markdown",
   "metadata": {},
   "source": [
    "# ---- (Anton Maliev)"
   ]
  },
  {
   "cell_type": "code",
   "execution_count": null,
   "metadata": {},
   "outputs": [],
   "source": []
  }
 ],
 "metadata": {
  "kernelspec": {
   "display_name": "Python 3",
   "language": "python",
   "name": "python3"
  },
  "language_info": {
   "codemirror_mode": {
    "name": "ipython",
    "version": 3
   },
   "file_extension": ".py",
   "mimetype": "text/x-python",
   "name": "python",
   "nbconvert_exporter": "python",
   "pygments_lexer": "ipython3",
   "version": "3.6.5"
  }
 },
 "nbformat": 4,
 "nbformat_minor": 2
}
