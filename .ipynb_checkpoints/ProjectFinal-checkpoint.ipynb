{
 "cells": [
  {
   "cell_type": "markdown",
   "metadata": {},
   "source": [
    "# Dataset 1: Images of Flowers"
   ]
  },
  {
   "cell_type": "markdown",
   "metadata": {},
   "source": [
    "## Preprocessing"
   ]
  },
  {
   "cell_type": "markdown",
   "metadata": {},
   "source": [
    "This dataset is provided in the form of about 4000 labeled images of different sizes of 5 types of flowers. Our goal for the assignment is to predict the type of flower based on the image. This proves to be much more difficult than our toy datasets from class. Most of the components carry some energy, so any substantial PCA greatly reduces the energy content of the data. In addition, going through the pictures by inspection, they all contain different lighting, background, and size of flower. We believe that more advanced methods are necessary to classify these images with substantial accuracy. In the preprocessing stage, we experiment with different degrees of image size reduction, as well as different #s of PCA features. We can't find a balance between computational complexity and accuracy of classification."
   ]
  },
  {
   "cell_type": "code",
   "execution_count": 12,
   "metadata": {},
   "outputs": [],
   "source": [
    "import numpy as np\n",
    "from matplotlib import pyplot as plt \n",
    "import glob\n",
    "from skimage.io import imread\n",
    "\n",
    "daisy,dandelion,rose,sunflower,tulip = [],[],[],[],[]\n",
    "\n",
    "for filename in glob.glob('flowerscomp2/daisy/*.jpg'): # for daisies\n",
    "    im = imread(filename,True).flatten()\n",
    "    daisy.append(im)    \n",
    "\n",
    "for filename in glob.glob('flowerscomp2/dandelion/*.jpg'): # for dandelion\n",
    "    im = imread(filename,True).flatten()\n",
    "    dandelion.append(im)\n",
    "    \n",
    "for filename in glob.glob('flowerscomp2/rose/*.jpg'): # for roses\n",
    "    im = imread(filename,True).flatten()\n",
    "    rose.append(im)\n",
    "    \n",
    "for filename in glob.glob('flowerscomp2/sunflower/*.jpg'): # for sunflowers\n",
    "    im = imread(filename,True).flatten()\n",
    "    sunflower.append(im)\n",
    "    \n",
    "for filename in glob.glob('flowerscomp2/tulip/*.jpg'): # for tulip\n",
    "    im = imread(filename,True).flatten()\n",
    "    tulip.append(im)\n",
    "    \n",
    "daisy_arr=np.asarray(daisy)\n",
    "dandelion_arr=np.asarray(dandelion)\n",
    "rose_arr=np.asarray(rose)\n",
    "sunflower_arr=np.asarray(sunflower)\n",
    "tulip_arr=np.asarray(tulip)\n",
    "\n",
    "# daisy = 0, dandelion = 1, rose = 2, sunflower = 3, tulip = 4\n",
    "daisy_labels=np.zeros((len(daisy_arr),1))\n",
    "dandelion_labels=np.ones((len(dandelion_arr),1))\n",
    "rose_labels=2*np.ones((len(rose_arr),1))\n",
    "sunflower_labels=3*np.ones((len(sunflower_arr),1))\n",
    "tulip_labels=4*np.ones((len(tulip_arr),1))\n",
    "\n",
    "\n",
    "# Here are the labels and the dataset \n",
    "labels=np.vstack((daisy_labels,dandelion_labels,rose_labels,sunflower_labels,tulip_labels))\n",
    "dataset=np.vstack((daisy_arr,dandelion_arr,rose_arr,sunflower_arr,tulip_arr))"
   ]
  },
  {
   "cell_type": "code",
   "execution_count": 6,
   "metadata": {},
   "outputs": [],
   "source": [
    "def normalize(A):\n",
    "    stds = [np.std(A[r,:]) for r in range(A.shape[0])]\n",
    "    for r in range(A.shape[0]):\n",
    "        A[r,:] /= stds[r]\n",
    "    return A\n",
    "\n",
    "def centralize(A):\n",
    "    means = [np.mean(A[r,:]) for r in range(A.shape[0])]\n",
    "    for r in range(A.shape[0]):\n",
    "        A[r,:] -= means[r]\n",
    "    return A\n",
    "\n",
    "def unisonShuffledCopies(a, b):\n",
    "    assert len(a) == len(b)\n",
    "    p = np.random.permutation(len(a))\n",
    "    return a[p], b[p]\n",
    "\n",
    "def PCA(A, numComponents):\n",
    "    # First, center the data\n",
    "    A = normalize(centralize(A))\n",
    "    \n",
    "    # Now, compute the SVD, and reduce the dimensions of A.\n",
    "    U, Sigma, Vt = np.linalg.svd(A)\n",
    "    D = np.matmul(A.T, U[:,:numComponents])\n",
    "    \n",
    "    return D.T"
   ]
  },
  {
   "cell_type": "code",
   "execution_count": null,
   "metadata": {
    "scrolled": true
   },
   "outputs": [],
   "source": [
    "# means of the photos\n",
    "fig=plt.figure(figsize=(20, 20))\n",
    "fig.add_subplot(1,5,1)\n",
    "plt.imshow(np.reshape(daisy_arr.mean(0),(100,100)),cmap='bone')\n",
    "plt.title(\"Daisy, mean\")\n",
    "fig.add_subplot(1,5,2)\n",
    "plt.imshow(np.reshape(dandelion_arr.mean(0),(100,100)),cmap='bone')\n",
    "plt.title(\"Dandelion, mean\")\n",
    "fig.add_subplot(1,5,3)\n",
    "plt.imshow(np.reshape(rose_arr.mean(0),(100,100)),cmap='bone')\n",
    "plt.title(\"Rose, mean\")\n",
    "fig.add_subplot(1,5,4)\n",
    "plt.imshow(np.reshape(sunflower_arr.mean(0),(100,100)),cmap='bone')\n",
    "plt.title(\"Sunflower, mean\")\n",
    "fig.add_subplot(1,5,5)\n",
    "plt.imshow(np.reshape(tulip_arr.mean(0),(100,100)),cmap='bone')\n",
    "plt.title(\"Tulip, mean\");"
   ]
  },
  {
   "cell_type": "code",
   "execution_count": null,
   "metadata": {},
   "outputs": [],
   "source": [
    "# Printing top principal components \n",
    "fig=plt.figure(figsize=(8,8))\n",
    "centered_daisy = daisy_arr.T-np.reshape(daisy_arr.T.mean(1),(10000,1))\n",
    "centered_dandelion = dandelion_arr.T-np.reshape(dandelion_arr.T.mean(1),(10000,1))\n",
    "u1,s1,v1 = np.linalg.svd(centered_daisy)\n",
    "u2,s2,v2 = np.linalg.svd(centered_dandelion)\n",
    "component1,component2 = u1[:,[0]],u1[:,[1]]\n",
    "component3,component4 = u2[:,[0]],u2[:,[1]]\n",
    "fig.add_subplot(221)\n",
    "plt.imshow(np.reshape(component1,(100,100)),cmap='bone')\n",
    "plt.title(\"Daisy, first component\")\n",
    "fig.add_subplot(222)\n",
    "plt.imshow(np.reshape(component2,(100,100)),cmap='bone')\n",
    "plt.title(\"Daisy, second component\");\n",
    "fig.add_subplot(223)\n",
    "plt.imshow(np.reshape((component3),(100,100)),cmap='bone')\n",
    "plt.title(\"Dandelion, first component\")\n",
    "fig.add_subplot(224)\n",
    "plt.imshow(np.reshape((component4),(100,100)),cmap='bone')\n",
    "plt.title(\"Dandelion, second component\");\n"
   ]
  },
  {
   "cell_type": "code",
   "execution_count": null,
   "metadata": {},
   "outputs": [],
   "source": [
    "# Centering the dataset \n",
    "mean=np.reshape(dataset.T.mean(1),(len(dataset.T),1))\n",
    "centered=dataset.T-mean\n",
    "\n",
    "i = 0\n",
    "stds = [np.std(row) for row in centered]\n",
    "normalized_samples=[]\n",
    "for row in centered:\n",
    "    normalized_samples.append(row/stds[i])\n",
    "    i+=1\n",
    "\n",
    "# Here I used centered to mean centered and normalized\n",
    "centered = np.asarray(normalized_samples)\n",
    "\n",
    "U,S,V=np.linalg.svd(centered)\n",
    "\n",
    "# Determining Variation\n",
    "total_s = 0\n",
    "fnorm = np.linalg.norm(centered,'fro')\n",
    "for k in range(2,12):\n",
    "    total_s += S[k]**2\n",
    "    print(k,(total_s/fnorm**2)*100)\n"
   ]
  },
  {
   "cell_type": "code",
   "execution_count": null,
   "metadata": {
    "scrolled": true
   },
   "outputs": [],
   "source": [
    "# Visualization of the datapoints \n",
    "\n",
    "\n",
    "p2c = (U[:,[0,1]].T@centered).T\n",
    "points = [p2c[0:768],p2c[768:1820],p2c[1820:2603],p2c[2603:3337],p2c[3337:4321]]\n",
    "colors = ['r','b','g','k','m']\n",
    "which_flower = ['daisy','dandelion','rose','sunflower','tulip']\n",
    "fig = plt.figure()\n",
    "\n",
    "for i in range(5):\n",
    "    x,y = points[i][:,0], points[i][:,1]\n",
    "    plt.scatter(x,y,c=colors[i],label=which_flower[i])\n",
    "plt.title('Two Dimensional PCA Features')\n",
    "plt.legend(loc='upper right');"
   ]
  },
  {
   "cell_type": "markdown",
   "metadata": {},
   "source": [
    "## k-Nearest Neighbors (Bill Lee)"
   ]
  },
  {
   "cell_type": "markdown",
   "metadata": {},
   "source": [
    "Here the kNN algorithm is run and cross validated on five folds and returns a confusion matrix afterwards. Just like the components, there is minimal benefit with increasing the amount of nearest neighbors after a certain point. We present three various nearest neighbors that illustrate this (although we tried with many more points)."
   ]
  },
  {
   "cell_type": "code",
   "execution_count": null,
   "metadata": {},
   "outputs": [],
   "source": [
    "from heapq import heappush, heappop\n",
    "from scipy import stats\n",
    "\n",
    "def kNN(k,testset,testlabels,trainset,trainlabels):\n",
    "    # distance stores threeple (euclidan distance, training class, actual test class)\n",
    "    confusion = np.zeros((5,5))\n",
    "    for i in range(len(testset)):\n",
    "        distances = []\n",
    "        for j in range(len(trainset)):\n",
    "            heappush(distances,(np.linalg.norm(testset[i]-trainset[j]),trainlabels[j]))\n",
    "    \n",
    "        # now take the k nearest\n",
    "        tally = []\n",
    "        for near in range(k):\n",
    "            tally.append(heappop(distances)[1])\n",
    "        \n",
    "        winner = int(stats.mode(tally)[0])\n",
    "        confusion[int(testlabels[i])][winner] += 1\n",
    "    \n",
    "    return confusion\n",
    "        \n",
    "\n",
    "def fiveFoldCV(data,labels):\n",
    "    mega_confusion=[]\n",
    "    for k in range(5,10,2):\n",
    "        total_confusion = np.zeros((5,5))\n",
    "        for i in range(5):\n",
    "            sindex1 = (i*864)\n",
    "            sindex2 = 4321 if i==4 else (i+1)*864\n",
    "            test_set = data[sindex1:sindex2]\n",
    "            test_labels = labels[sindex1:sindex2]\n",
    "            training_set = np.concatenate((data[sindex2:4321],data[0:sindex1]))\n",
    "            training_labels = np.concatenate((labels[sindex2:4321],labels[0:sindex1]))\n",
    "            temp_confusion = kNN(k, test_set, test_labels, training_set, training_labels)\n",
    "            total_confusion += temp_confusion\n",
    "        mega_confusion.append(total_confusion)\n",
    "        \n",
    "    return mega_confusion\n",
    " \n",
    "mega_confusion = fiveFoldCV(workable_samples.T,workable_labels)\n"
   ]
  },
  {
   "cell_type": "code",
   "execution_count": null,
   "metadata": {},
   "outputs": [],
   "source": [
    "finalTopk=U[:,0:10]\n",
    "new_dataset=finalTopk.T@centered\n",
    "\n",
    "def scramble(samples,labels):\n",
    "    fix_labels=np.reshape(labels,(1,labels.shape[0]))\n",
    "    mashed = np.vstack((samples,fix_labels)).T\n",
    "    np.random.shuffle(mashed)\n",
    "    labels_out = mashed.T[mashed.T.shape[0]-1]\n",
    "    samples_out = mashed.T[0:mashed.T.shape[0]-1]\n",
    "    return [samples_out,labels_out]\n",
    "    \n",
    "workable_samples, workable_labels = scramble(new_dataset,labels)"
   ]
  },
  {
   "cell_type": "code",
   "execution_count": null,
   "metadata": {},
   "outputs": [],
   "source": [
    "for i in range(len(mega_confusion)):\n",
    "    print(\"k (nearest neighbors)\",((2*(i+1))+1),\"with confusion matrix\\n\",mega_confusion[i])"
   ]
  },
  {
   "cell_type": "code",
   "execution_count": null,
   "metadata": {},
   "outputs": [],
   "source": [
    "k = 3\n",
    "for matrix in mega_confusion:\n",
    "    correct = 0\n",
    "    total = 0\n",
    "    for i in range(5):\n",
    "        for j in range(5):\n",
    "            if(i==j):\n",
    "                correct+=matrix[i][j]\n",
    "            total += matrix[i][j]\n",
    "    print(k, \"with correct classification percentage\", (correct/total)*100)\n",
    "    k += 2\n",
    "                            "
   ]
  },
  {
   "cell_type": "markdown",
   "metadata": {},
   "source": [
    "## Support Vector Machine (Lester Fan)"
   ]
  },
  {
   "cell_type": "markdown",
   "metadata": {},
   "source": [
    "Here we run a support vector machine on the PCA'd data. The resulting accuracy is lower than kNN, but still higher than random guessing."
   ]
  },
  {
   "cell_type": "code",
   "execution_count": null,
   "metadata": {},
   "outputs": [],
   "source": [
    "def makeScatterPlot(title, pointsLists, colors, markers, xlabel = '', ylabel = ''):\n",
    "    # Create plot\n",
    "    fig = plt.figure()\n",
    "    ax = fig.add_subplot(1, 1, 1)\n",
    "     \n",
    "    for i, pointsList in enumerate(pointsLists):\n",
    "        currColor = colors[i]\n",
    "        currMarker = markers[i]\n",
    "        for point in pointsList:\n",
    "            x, y = point\n",
    "            ax.scatter(x, y, c=currColor, marker=currMarker)\n",
    "        \n",
    "    # Temporary, add line\n",
    "    axes = plt.gca()\n",
    "    x_vals = np.array(axes.get_xlim())\n",
    "    y_vals = 0 + 1 * x_vals\n",
    "    plt.plot(x_vals, y_vals, '--')\n",
    "    \n",
    "    # plt.xlim(0, 100)\n",
    "    # plt.ylim(0, 100)\n",
    "    plt.title(title)\n",
    "    plt.xlabel(xlabel)\n",
    "    plt.ylabel(ylabel)\n",
    "    plt.legend(loc=2)\n",
    "    plt.show()\n",
    "\n",
    "def calcError(y1, y2):\n",
    "    return 1 if y1 != y2 else 0\n",
    "\n",
    "def KCVsplit(k, X, y):\n",
    "    \"\"\"\n",
    "    Splits the training data (X) into k folds in which one fold is used for testing\n",
    "    and all the others are used for training. Does this k times. \n",
    "    \n",
    "    :param int k\n",
    "    :param np.array X\n",
    "    :param np.array y\n",
    "    :return: (folds, Xlist, ylist, table) where folds is a list of all \n",
    "             the folds, Xlist is a list of np.arrays\n",
    "             corresponding to the X used for training in each iteration \n",
    "             (all the folds except for index i),\n",
    "             ylist is a list of np.arrays corresponding to the y used for training\n",
    "             and table is a hash table mapping rows in X to their corresponding\n",
    "             label y.\n",
    "    :rtype: tuple of (list of np.array, np.array, np.array, dict)\n",
    "    \"\"\"\n",
    "    Xlist = []\n",
    "    ylist = []\n",
    "    table = {}\n",
    "    \n",
    "    # Set table up\n",
    "    for i, row in enumerate(X):\n",
    "        table[str(row)] = y[i]\n",
    "    \n",
    "    # Split X up into folds\n",
    "    stepSize = int(X.shape[0] / k) + 1\n",
    "    steps = [min(X.shape[0], stepSize * n) for n in range(1, k)]\n",
    "    folds = np.split(X, steps)\n",
    "    foldLabels = np.split(y, steps)\n",
    "    \n",
    "    for i, currFold in enumerate(folds):\n",
    "        # Get XTrain and yTrain with all the other folds except currFold\n",
    "        otherFolds = [otherFold for j, otherFold in enumerate(folds) if j != i]\n",
    "        otherFoldLabels = [label for j, label in enumerate(foldLabels) if j != i]\n",
    "        XTrain = otherFolds[0]\n",
    "        yTrain = otherFoldLabels[0]\n",
    "        for j in range(1, len(otherFolds)):\n",
    "            XTrain = np.append(XTrain, otherFolds[j], axis=0)\n",
    "            yTrain = np.append(yTrain, otherFoldLabels[j], axis=0)\n",
    "        Xlist.append(XTrain)\n",
    "        ylist.append(yTrain)\n",
    "    \n",
    "    return (folds, Xlist, ylist, table)\n",
    "\n",
    "def performValidation(k, X, y, model, plotDiffs = False):\n",
    "    \"\"\"\n",
    "    Performs cross validation\n",
    "    \"\"\"\n",
    "    folds, Xlist, ylist, table = KCVsplit(k, X, y)\n",
    "    \n",
    "    confusionMatrices = []\n",
    "    foldSizes = []\n",
    "    \n",
    "    # For each fold i, use i as testing, and use all the other\n",
    "    # i - 1 folds for training. Calculate the errors for each and store\n",
    "    # them in avgErrors\n",
    "    predTable = {}\n",
    "    avgErrors = []\n",
    "    for i in range(len(Xlist)):\n",
    "        currFold = folds[i]\n",
    "        XTrain = Xlist[i]\n",
    "        yTrain = ylist[i]\n",
    "        \n",
    "        # Make a confusion matrix\n",
    "        confusionMatrix = [[0 for c in range(5)] for r in range(5)]\n",
    "        \n",
    "        # Train the model\n",
    "        model.fit(XTrain, yTrain)\n",
    "        \n",
    "        # Now, evaluate the trained model against the actual labels,\n",
    "        # keep track of total error!\n",
    "        totalError = 0\n",
    "        for row in currFold:\n",
    "            \n",
    "            # Get the current predicted value\n",
    "            currRow = row.reshape(1, -1)\n",
    "            yPredicted = model.predict(currRow)\n",
    "            \n",
    "            predicted = yPredicted[0]\n",
    "            actual = table[str(row)][0]\n",
    "            \n",
    "            # Update the confusion matrix\n",
    "            confusionMatrix[int(predicted)][int(actual)] += 1\n",
    "            \n",
    "            totalError += calcError(predicted, actual)\n",
    "            predTable[str(row)] = yPredicted\n",
    "        # totalError /= len(currFold)\n",
    "        avgErrors.append(totalError)\n",
    "        foldSizes.append(len(currFold))\n",
    "        confusionMatrices.append(np.array(confusionMatrix))\n",
    "          \n",
    "    predictions = []\n",
    "    actuals = []\n",
    "    plotPoints = []\n",
    "    for row in X:\n",
    "        hashVal = str(row)\n",
    "        predictions.append(predTable[hashVal][0])\n",
    "        actuals.append(table[hashVal][0])\n",
    "    plotPoints = [(predictions[i], actuals[i]) for i in range(len(actuals))]\n",
    "\n",
    "    # Optionally, plot the measured vs predicted values\n",
    "    if plotDiffs:\n",
    "        makeScatterPlot(\"Measured vs Predicted\", \n",
    "                        [plotPoints], \n",
    "                        ['r'], \n",
    "                        ['.'],\n",
    "                        'Predicted',\n",
    "                        'Actual')\n",
    "    return avgErrors, foldSizes, confusionMatrices"
   ]
  },
  {
   "cell_type": "code",
   "execution_count": 69,
   "metadata": {},
   "outputs": [],
   "source": [
    "from sklearn.svm import SVC\n",
    "model = SVC()\n",
    "pcaData = PCA(dataset.T, 100).T\n",
    "k = 5"
   ]
  },
  {
   "cell_type": "code",
   "execution_count": null,
   "metadata": {},
   "outputs": [],
   "source": [
    "pcaData, labels = unisonShuffledCopies(pcaData, labels)\n",
    "errors, foldSizes, confusionMatrices = performValidation(k, pcaData, labels, model)\n",
    "for i, confusionMatrix in enumerate(confusionMatrices):\n",
    "    print(\"Confusion Matrix {}\".format(i))\n",
    "    print(confusionMatrix)\n",
    "    print(\"Accuracy rate = {}\".format(1 - float(errors[i]) / foldSizes[i]))\n",
    "    print(\"\")\n"
   ]
  },
  {
   "cell_type": "markdown",
   "metadata": {},
   "source": [
    "## Naive Bayes Classifier (Anton Maliev)"
   ]
  },
  {
   "cell_type": "markdown",
   "metadata": {},
   "source": [
    "Here we run a support vector machine on the PCA'd data. The resulting accuracy is lower than kNN, but still higher than random guessing."
   ]
  },
  {
   "cell_type": "code",
   "execution_count": 164,
   "metadata": {},
   "outputs": [],
   "source": [
    "import numpy.linalg as la;\n",
    "def Gaussian(x, mean, cov, dim) :\n",
    "    return 1/np.sqrt((2*np.pi)**dim*la.norm(x))*np.exp(-np.matmul(np.matmul(np.transpose(x-mean),la.inv(cov)),x-mean)/2);\n",
    "def NBClassifier(training, trlabels, test, dim) :\n",
    "    # Split training data and calculate means and standard deviations\n",
    "    train = []; means = []; stds = [];\n",
    "    for i in range(5) :\n",
    "        train.append(training[np.ix_(np.arange(np.shape(training)[0]),np.where(trlabels==i)[0])]);\n",
    "        means.append(train[i].mean(1));\n",
    "        stds.append(np.cov(train[i]));\n",
    "    # Classify each test datum based on Gaussian output\n",
    "    result = [];\n",
    "    for i in range(np.shape(test)[1]) :\n",
    "        x = test[:,i];\n",
    "        prob = [];\n",
    "        for j in range(5) :\n",
    "            prob.append(Gaussian(x,means[j],stds[j],len(x)));\n",
    "        result.append(np.argmax(prob));\n",
    "    return result;"
   ]
  },
  {
   "cell_type": "code",
   "execution_count": 165,
   "metadata": {},
   "outputs": [
    {
     "name": "stdout",
     "output_type": "stream",
     "text": [
      "The accuracies for the five folds are:  [0.20023148148148148, 0.20601851851851852, 0.21643518518518517, 0.22337962962962962, 0.1976878612716763]\n",
      "Mean:  0.2087505352172982\n",
      "Standard deviation:  0.009751771070704407\n"
     ]
    }
   ],
   "source": [
    "pcad, labels = unisonShuffledCopies(pcaData, labels);\n",
    "pcad = pcad.T;\n",
    "\n",
    "M = np.shape(pcad)[0];\n",
    "N = np.shape(pcad)[1];\n",
    "folds = [0,N//5,2*N//5,3*N//5,4*N//5,N];\n",
    "\n",
    "# Cycle through folds and run classifier on training + test\n",
    "kcross = [];\n",
    "for i in range(5) :\n",
    "    ind1 = folds[i];\n",
    "    ind2 = folds[i+1];\n",
    "    trs = np.concatenate((pcad[0:M,0:ind1],pcad[0:M,ind2:N]),1);\n",
    "    lbs = np.concatenate((labels[0:ind1],labels[ind2:N]),0);\n",
    "    tst = pcad[0:M,ind1:ind2];\n",
    "    kcross.append(NBClassifier(trs,lbs,tst,M));\n",
    "\n",
    "# Use array of differences to compute accuracy\n",
    "accs = [];\n",
    "for i in range(5) :\n",
    "    difarray = kcross[i]-labels[folds[i]:folds[i+1]].T;\n",
    "    accs.append(len(np.where(difarray == 0)[1])/(folds[i+1]-folds[i]));\n",
    "\n",
    "print(\"The accuracies for the five folds are: \",accs);\n",
    "print(\"Mean: \",np.mean(accs));\n",
    "print(\"Standard deviation: \",np.std(accs));"
   ]
  },
  {
   "cell_type": "markdown",
   "metadata": {},
   "source": [
    "# Dataset 2: Economic Freedom of Countries"
   ]
  },
  {
   "cell_type": "markdown",
   "metadata": {},
   "source": [
    "Note: this dataset was used in place of the Stack Overflow dataset. We were initially prepared to cluster similar posts on StackOverflow by their text content. However, we didn't realize that the entire dataset was so large (162 GB) that it would be impractical to download onto a PC and sift through. Thus we decided on this smaller dataset to run clustering on."
   ]
  },
  {
   "cell_type": "markdown",
   "metadata": {},
   "source": [
    "## Preprocessing"
   ]
  },
  {
   "cell_type": "markdown",
   "metadata": {},
   "source": [
    "This dataset is presented in the form of a csv file with an assortment of statistics about every world country from different years. Our goal for this assignment is to assign the countries into three clusters and evaluate by inspection whether the groupings make sense. To start, we run through the csv file and take 30 values from each country from the 2016 report. Our initial problem here is that not all of the 30 values are listed for each country. We considered amending our algorithms to skip over any missing data, but decided that it would be difficult to perform standardization and PCA with missing entries. We end up removing all the countries with missing values, which cuts about 25% (40/160) of our data, so it shouldn't have a big impact on the effectiveness of clustering. After that, we standardize our data and perform PCA."
   ]
  },
  {
   "cell_type": "code",
   "execution_count": 22,
   "metadata": {},
   "outputs": [],
   "source": [
    "import numpy as np;\n",
    "import csv;\n",
    "X = [];\n",
    "# this reads the csv file\n",
    "with open('Econ_Freedom_Data.csv') as csv_file:\n",
    "    csv_reader = csv.reader(csv_file, delimiter=',');\n",
    "    for row in csv_reader:\n",
    "        # fetching the relevant data\n",
    "        if row[0] == \"2016\":\n",
    "            v = [];\n",
    "            for i in range(6,36) :\n",
    "                if (row[i]==\"\") :\n",
    "                    v.append(-1.0);\n",
    "                else :\n",
    "                    v.append(float(row[i]));\n",
    "            X.append(v);\n",
    "i = 0;\n",
    "# removing all samples with null values\n",
    "while i < np.shape(X)[0] :\n",
    "    v = X[i];\n",
    "    if -1.0 in v :\n",
    "        X = np.delete(X,i,0);\n",
    "    else :\n",
    "        i = i+1;\n",
    "# standardizing the data\n",
    "meanv = np.repeat(np.reshape(np.asmatrix(X.mean(0)),(1,np.shape(X)[1])),np.shape(X)[0],axis=0);\n",
    "stdv = np.repeat(np.reshape(np.asmatrix(X.std(0)),(1,np.shape(X)[1])),np.shape(X)[0],axis=0);\n",
    "Xs = (X-meanv) / stdv;\n",
    "# performing 2D PCA\n",
    "U,S,V = np.linalg.svd(Xs.T);\n",
    "X2 = (U[:,[0,1]].T@Xs.T);"
   ]
  },
  {
   "cell_type": "markdown",
   "metadata": {},
   "source": [
    "## Utility Functions"
   ]
  },
  {
   "cell_type": "code",
   "execution_count": 207,
   "metadata": {},
   "outputs": [],
   "source": [
    "import numpy.linalg as la;\n",
    "def ClusterVariance(clusters) :\n",
    "    vars = [];\n",
    "    for cluster in clusters :\n",
    "        mean = np.mean(cluster,0);\n",
    "        var = 0;\n",
    "        for sample in cluster :\n",
    "            var += la.norm(sample-mean);\n",
    "        var /= np.shape(cluster)[0];\n",
    "        vars.append(var);\n",
    "    return vars;"
   ]
  },
  {
   "cell_type": "markdown",
   "metadata": {},
   "source": [
    "## k-Means Clustering (Lester Fan)"
   ]
  },
  {
   "cell_type": "markdown",
   "metadata": {},
   "source": [
    "Here we perform k-means clustering on the 2D features of the data. This resembles the examples we've done in class; the data shows a clear separation."
   ]
  },
  {
   "cell_type": "code",
   "execution_count": 83,
   "metadata": {},
   "outputs": [],
   "source": [
    "import random;\n",
    "def makeScatterPlot(title, pointsLists, colors):\n",
    "    # Create plot\n",
    "    fig = plt.figure()\n",
    "    ax = fig.add_subplot(1, 1, 1)\n",
    "     \n",
    "    for i, pointsList in enumerate(pointsLists):\n",
    "        currColor = colors[i]\n",
    "        for point in pointsList:\n",
    "            point = point.tolist();\n",
    "            x = point[0][0];\n",
    "            y = point[0][1];\n",
    "            ax.scatter(x, y, c=currColor)\n",
    "        \n",
    "    plt.title(title)\n",
    "    plt.show()\n",
    "\n",
    "def getCentroids(clusters):\n",
    "    centroids = []\n",
    "    for cluster in clusters:\n",
    "        currMean = np.sum(cluster,0) / float(len(cluster))\n",
    "        centroids.append(currMean)\n",
    "    return centroids\n",
    "    \n",
    "def kMeans(points, k):\n",
    "    # Randomly initialize\n",
    "    result = [[] for i in range(k)]\n",
    "    for point in points:\n",
    "        randIndex = random.randint(0, k - 1)\n",
    "        result[randIndex].append(point)\n",
    "        \n",
    "    centroids = getCentroids(result)\n",
    "    # print cluster\n",
    "    # centroids = [np.mean(cluster) for cluster in result]  \n",
    "    # print centroids\n",
    "    \n",
    "    # Run algorithm\n",
    "    seenCentroids = set([])\n",
    "    hasChanged = True\n",
    "    while hasChanged:\n",
    "        hasChanged = False\n",
    "        newResult = [[] for i in range(k)]\n",
    "        for i, cluster in enumerate(result):\n",
    "            for point in cluster:\n",
    "                closestIndex = np.argmin([\n",
    "                    np.linalg.norm(point - centroids[j]) for j in range(k)\n",
    "                ])\n",
    "                if closestIndex != i:\n",
    "                    hasChanged = True\n",
    "                newResult[closestIndex].append(point)\n",
    "        # Recompute the centroid\n",
    "        result = newResult\n",
    "        centroids = getCentroids(result)   \n",
    "        \n",
    "        hashVal = str(centroids)\n",
    "        if hashVal in seenCentroids:\n",
    "            break\n",
    "        seenCentroids.add(hashVal)\n",
    "        \n",
    "    return result"
   ]
  },
  {
   "cell_type": "code",
   "execution_count": 210,
   "metadata": {},
   "outputs": [
    {
     "data": {
      "image/png": "[encoded data removed]",
      "text/plain": [
       "<Figure size 432x288 with 1 Axes>"
      ]
     },
     "metadata": {},
     "output_type": "display_data"
    },
    {
     "name": "stdout",
     "output_type": "stream",
     "text": [
      "Cluster lengths = [40, 32, 49]\n",
      "Cluster variances = [1.862265095320523, 2.2628591662917485, 1.777958023114567]\n"
     ]
    }
   ],
   "source": [
    "clusters = kMeans(X2.T, 3);\n",
    "makeScatterPlot('k-Means Clustering Result',clusters,['r','b','g']);\n",
    "print (\"Cluster lengths = {}\".format([len(cluster) for cluster in clusters]));\n",
    "print(\"Cluster variances = {}\".format(ClusterVariance(clusters)));"
   ]
  },
  {
   "cell_type": "markdown",
   "metadata": {},
   "source": [
    "## Gaussian Mixture Model (Bill Lee)"
   ]
  },
  {
   "cell_type": "markdown",
   "metadata": {},
   "source": [
    "Here we perform GMM clustering on the data. The three clusters come out very uneven, and in some runs one cluster vanishes entirely. This causes a large variance in cluster size and shape."
   ]
  },
  {
   "cell_type": "code",
   "execution_count": 240,
   "metadata": {},
   "outputs": [],
   "source": [
    "from scipy.stats import multivariate_normal\n",
    "\n",
    "def computePi(probability_matrix,j):\n",
    "    extract_column = probability_matrix[:,j]\n",
    "    total_col = sum(extract_column)\n",
    "    return total_col/probability_matrix.shape[0]\n",
    "\n",
    "def computeMu(probability_matrix,dataset,j):\n",
    "    total_px = np.zeros((1,dataset.shape[1]))\n",
    "    for i in range(len(dataset)):\n",
    "        total_px += (probability_matrix[i][j]*dataset[i])\n",
    "    extract_column = probability_matrix[:,j]\n",
    "    total_col = sum(extract_column)\n",
    "    return total_px/total_col\n",
    "\n",
    "def computeCov(probability_matrix,dataset,j,mu):\n",
    "    total_cov = np.zeros((dataset.shape[1],dataset.shape[1]))\n",
    "    for i in range(len(dataset)):\n",
    "        xMinusMean = dataset[i] - mu\n",
    "        total_cov += probability_matrix[i][j]*(xMinusMean.T@xMinusMean)\n",
    "    extract_column = probability_matrix[:,j]\n",
    "    total_col = sum(extract_column)\n",
    "    return (1/total_col)*(total_cov)  \n",
    "\n",
    "def parent_pdf(datapoint,Pi,Mu,Cov,numberOfClusters):\n",
    "    # Computes the f_X(x)\n",
    "    total = 0\n",
    "    for j in range(numberOfClusters):\n",
    "        total += Pi[j]*(multivariate_normal.pdf(datapoint, Mu[j], Cov[j], allow_singular=True))\n",
    "    return total\n",
    "\n",
    "def Pij_times_fj(Pi_j, Mu_j, Cov_j, j, datapoint):\n",
    "    return Pi_j*multivariate_normal.pdf(datapoint, mean=Mu_j, cov=Cov_j, allow_singular=True)\n",
    "\n",
    "def emAlgorithm(dataset,numberOfClusters):\n",
    "    # Expectation Maximization Algorithm\n",
    "    \n",
    "    Pi = [(1/numberOfClusters) for i in range(numberOfClusters)]\n",
    "    Mu = [10*np.random.rand(dataset.shape[1]) for i in range(numberOfClusters)]\n",
    "    Sigma = [np.identity(dataset.shape[1]) for i in range(numberOfClusters)]\n",
    "    \n",
    "    didNotConverge = True\n",
    "    probability_matrix = np.zeros((dataset.shape[0],numberOfClusters))\n",
    "    epsilon = 10\n",
    "    while didNotConverge:\n",
    "        Theta = [np.copy(Pi), np.copy(Mu), np.copy(Sigma)]\n",
    "        didNotConverge = False\n",
    "        # Estimation\n",
    "        for i in range(dataset.shape[0]):\n",
    "            denominator = parent_pdf(dataset[i],Pi,Mu,Sigma,numberOfClusters)\n",
    "            for j in range(numberOfClusters):\n",
    "                probability_matrix[i][j] = Pij_times_fj(Pi[j],Mu[j],Sigma[j],j,dataset[i])/denominator\n",
    "        # Maximization\n",
    "        for j in range(numberOfClusters):\n",
    "            Pi[j] = computePi(probability_matrix,j)\n",
    "            Mu[j] = computeMu(probability_matrix,dataset,j)\n",
    "            Sigma[j] = computeCov(probability_matrix,dataset,j,Mu[j])\n",
    "        Mu = np.squeeze(Mu);\n",
    "        # Check Convergence\n",
    "        for j in range(numberOfClusters):\n",
    "            difference = np.linalg.norm(Theta[1][j]-Mu[j])\n",
    "            if(difference > 0.1):\n",
    "                didNotConverge = True\n",
    "    return [Pi, Mu, Sigma]\n",
    "\n",
    "out = emAlgorithm(X2.T,3)"
   ]
  },
  {
   "cell_type": "code",
   "execution_count": 1,
   "metadata": {},
   "outputs": [
    {
     "ename": "NameError",
     "evalue": "name 'X2' is not defined",
     "output_type": "error",
     "traceback": [
      "\u001b[1;31m---------------------------------------------------------------------------\u001b[0m",
      "\u001b[1;31mNameError\u001b[0m                                 Traceback (most recent call last)",
      "\u001b[1;32m<ipython-input-1-1493792b779b>\u001b[0m in \u001b[0;36m<module>\u001b[1;34m()\u001b[0m\n\u001b[0;32m      8\u001b[0m     \u001b[1;32mreturn\u001b[0m \u001b[1;36m1\u001b[0m\u001b[1;33m/\u001b[0m\u001b[0mnp\u001b[0m\u001b[1;33m.\u001b[0m\u001b[0msqrt\u001b[0m\u001b[1;33m(\u001b[0m\u001b[1;33m(\u001b[0m\u001b[1;36m2\u001b[0m\u001b[1;33m*\u001b[0m\u001b[0mnp\u001b[0m\u001b[1;33m.\u001b[0m\u001b[0mpi\u001b[0m\u001b[1;33m)\u001b[0m\u001b[1;33m**\u001b[0m\u001b[0mdim\u001b[0m\u001b[1;33m*\u001b[0m\u001b[0mla\u001b[0m\u001b[1;33m.\u001b[0m\u001b[0mnorm\u001b[0m\u001b[1;33m(\u001b[0m\u001b[0mx\u001b[0m\u001b[1;33m)\u001b[0m\u001b[1;33m)\u001b[0m\u001b[1;33m*\u001b[0m\u001b[0mnp\u001b[0m\u001b[1;33m.\u001b[0m\u001b[0mexp\u001b[0m\u001b[1;33m(\u001b[0m\u001b[1;33m-\u001b[0m\u001b[0mnp\u001b[0m\u001b[1;33m.\u001b[0m\u001b[0mmatmul\u001b[0m\u001b[1;33m(\u001b[0m\u001b[0mnp\u001b[0m\u001b[1;33m.\u001b[0m\u001b[0mmatmul\u001b[0m\u001b[1;33m(\u001b[0m\u001b[0mnp\u001b[0m\u001b[1;33m.\u001b[0m\u001b[0mtranspose\u001b[0m\u001b[1;33m(\u001b[0m\u001b[0mx\u001b[0m\u001b[1;33m-\u001b[0m\u001b[0mmean\u001b[0m\u001b[1;33m)\u001b[0m\u001b[1;33m,\u001b[0m\u001b[0mla\u001b[0m\u001b[1;33m.\u001b[0m\u001b[0minv\u001b[0m\u001b[1;33m(\u001b[0m\u001b[0mcov\u001b[0m\u001b[1;33m)\u001b[0m\u001b[1;33m)\u001b[0m\u001b[1;33m,\u001b[0m\u001b[0mx\u001b[0m\u001b[1;33m-\u001b[0m\u001b[0mmean\u001b[0m\u001b[1;33m)\u001b[0m\u001b[1;33m/\u001b[0m\u001b[1;36m2\u001b[0m\u001b[1;33m)\u001b[0m\u001b[1;33m;\u001b[0m\u001b[1;33m\u001b[0m\u001b[0m\n\u001b[0;32m      9\u001b[0m \u001b[0mlabels\u001b[0m \u001b[1;33m=\u001b[0m \u001b[1;33m[\u001b[0m\u001b[1;33m]\u001b[0m\u001b[1;33m;\u001b[0m\u001b[1;33m\u001b[0m\u001b[0m\n\u001b[1;32m---> 10\u001b[1;33m \u001b[1;32mfor\u001b[0m \u001b[0msample\u001b[0m \u001b[1;32min\u001b[0m \u001b[0mX2\u001b[0m\u001b[1;33m.\u001b[0m\u001b[0mT\u001b[0m \u001b[1;33m:\u001b[0m\u001b[1;33m\u001b[0m\u001b[0m\n\u001b[0m\u001b[0;32m     11\u001b[0m     \u001b[0mprobs\u001b[0m \u001b[1;33m=\u001b[0m \u001b[1;33m[\u001b[0m\u001b[1;33m]\u001b[0m\u001b[1;33m;\u001b[0m\u001b[1;33m\u001b[0m\u001b[0m\n\u001b[0;32m     12\u001b[0m     \u001b[1;32mfor\u001b[0m \u001b[0mi\u001b[0m \u001b[1;32min\u001b[0m \u001b[0mrange\u001b[0m\u001b[1;33m(\u001b[0m\u001b[1;36m2\u001b[0m\u001b[1;33m)\u001b[0m \u001b[1;33m:\u001b[0m\u001b[1;33m\u001b[0m\u001b[0m\n",
      "\u001b[1;31mNameError\u001b[0m: name 'X2' is not defined"
     ]
    }
   ],
   "source": [
    "import numpy.linalg as la\n",
    "import mpl_toolkits.mplot3d\n",
    "import matplotlib as mpl;\n",
    "from matplotlib.patches import Ellipse\n",
    "\n",
    "# Sorting data into clusters\n",
    "def Gaussian(x, mean, cov, dim) :\n",
    "    return 1/np.sqrt((2*np.pi)**dim*la.norm(x))*np.exp(-np.matmul(np.matmul(np.transpose(x-mean),la.inv(cov)),x-mean)/2);\n",
    "labels = [];\n",
    "for sample in X2.T :\n",
    "    probs = [];\n",
    "    for i in range(2) : \n",
    "        probs.append(out[0][i]*Gaussian(sample.T, np.reshape(out[1][i],(2,1)), out[2][i], 2));\n",
    "    labels.append(np.argmax(probs));\n",
    "print(labels);\n",
    "colors = ['r' if x==0 else 'b' if x==1 else 'g' for x in labels];\n",
    "\n",
    "# Plotting clustered data points\n",
    "xset = X2[0].tolist()[0]\n",
    "yset = X2[1].tolist()[0]\n",
    "fig = plt.figure()\n",
    "ax = fig.add_subplot(111) \n",
    "ax.scatter(xset,yset,c=colors)\n",
    "\n",
    "# Plotting ellipses - computing height, weight, angle, and shading\n",
    "colors = ['r','b','g']\n",
    "for i in range(3) :\n",
    "    v, w = la.eigh(out[2][i])\n",
    "    v = 2. * np.sqrt(2.) * np.sqrt(v)\n",
    "    u = w[0] / la.norm(w[0])\n",
    "    angle = np.arctan(u[1] / u[0])\n",
    "    angle = 180. * angle / np.pi  # convert to degrees\n",
    "    ell = mpl.patches.Ellipse(out[1][i], v[0], v[1], 180. + angle, color=colors[i])\n",
    "    ell.set_clip_box(ax.bbox)\n",
    "    # Renormalized mu value for alpha so the contrast isn't as sharp\n",
    "    ell.set_alpha(out[0][i]**(1/3)/2/(.5)**(1/3))\n",
    "    ax.add_artist(ell)"
   ]
  },
  {
   "cell_type": "markdown",
   "metadata": {},
   "source": [
    "## Spectral Clustering (Anton Maliev)"
   ]
  },
  {
   "cell_type": "markdown",
   "metadata": {},
   "source": [
    "Here we perform Spectral Clustering using the built-in methods on scikit-learn. We test the implementation on the full 30D vectors varying two parameters. Changing the kernel method to a nearest-neighbors implementation creates more separation, and the clusters start to resemble those formed through kNN. Changing the label assignment rule to kmeans creates more uneven clusters using the rbf kernel."
   ]
  },
  {
   "cell_type": "code",
   "execution_count": 216,
   "metadata": {},
   "outputs": [
    {
     "name": "stdout",
     "output_type": "stream",
     "text": [
      "rbf Kernel with discretized labels:\n",
      "Cluster lengths = [39, 61, 21]\n",
      "Cluster variances = [7.715951946761223, 9.498678007068358, 11.820461620529633]\n",
      "rbf Kernel with discretized labels:\n",
      "Cluster lengths = [113, 2, 6]\n",
      "Cluster variances = [9.625923944720256, 1.6369431820700315, 4.703541284813698]\n",
      "rbf Kernel with discretized labels:\n",
      "Cluster lengths = [45, 52, 24]\n",
      "Cluster variances = [8.746448888557822, 7.07111078580074, 5.727439721956909]\n",
      "rbf Kernel with discretized labels:\n",
      "Cluster lengths = [57, 19, 45]\n",
      "Cluster variances = [7.373774172218469, 4.655355900999471, 8.842783721580224]\n"
     ]
    },
    {
     "data": {
      "image/png": "[encoded data removed]",
      "text/plain": [
       "<Figure size 432x288 with 4 Axes>"
      ]
     },
     "metadata": {},
     "output_type": "display_data"
    }
   ],
   "source": [
    "# Run SpectralClustering four times with different params\n",
    "from sklearn.cluster import SpectralClustering;\n",
    "sc1 = SpectralClustering(3, n_init=100, assign_labels='discretize', affinity='rbf');\n",
    "labels1 = sc1.fit(X).labels_;\n",
    "colors1 = ['r' if x==0 else 'b' if x==1 else 'g' for x in labels1];\n",
    "clusters1 = [];\n",
    "# Construct clusters and compute size, variance\n",
    "for i in range(3) :\n",
    "    clusters1.append(X[np.ix_(np.where(labels1==i)[0],np.arange(30))]);\n",
    "print(\"rbf Kernel with discretized labels:\");\n",
    "print (\"Cluster lengths = {}\".format([len(cluster) for cluster in clusters1]));\n",
    "print(\"Cluster variances = {}\".format(ClusterVariance(clusters1)));\n",
    "\n",
    "sc2 = SpectralClustering(3, n_init=100, assign_labels='kmeans', affinity='rbf');\n",
    "labels2 = sc2.fit(X).labels_;\n",
    "colors2 = ['r' if x==0 else 'b' if x==1 else 'g' for x in labels2];\n",
    "clusters2 = [];\n",
    "for i in range(3) :\n",
    "    clusters2.append(X[np.ix_(np.where(labels2==i)[0],np.arange(30))]);\n",
    "print(\"rbf Kernel with discretized labels:\");\n",
    "print (\"Cluster lengths = {}\".format([len(cluster) for cluster in clusters2]));\n",
    "print(\"Cluster variances = {}\".format(ClusterVariance(clusters2)));\n",
    "\n",
    "sc3 = SpectralClustering(3, n_init=100, assign_labels='discretize', affinity='nearest_neighbors');\n",
    "labels3 = sc3.fit(X).labels_;\n",
    "colors3 = ['r' if x==0 else 'b' if x==1 else 'g' for x in labels3];\n",
    "clusters3 = [];\n",
    "for i in range(3) :\n",
    "    clusters3.append(X[np.ix_(np.where(labels3==i)[0],np.arange(30))]);\n",
    "print(\"rbf Kernel with discretized labels:\");\n",
    "print (\"Cluster lengths = {}\".format([len(cluster) for cluster in clusters3]));\n",
    "print(\"Cluster variances = {}\".format(ClusterVariance(clusters3)));\n",
    "\n",
    "sc4 = SpectralClustering(3, n_init=100, assign_labels='kmeans', affinity='nearest_neighbors');\n",
    "labels4 = sc4.fit(X).labels_;\n",
    "colors4 = ['r' if x==0 else 'b' if x==1 else 'g' for x in labels4];\n",
    "clusters4 = [];\n",
    "for i in range(3) :\n",
    "    clusters4.append(X[np.ix_(np.where(labels==i)[0],np.arange(30))]);\n",
    "print(\"rbf Kernel with discretized labels:\");\n",
    "print (\"Cluster lengths = {}\".format([len(cluster) for cluster in clusters4]));\n",
    "print(\"Cluster variances = {}\".format(ClusterVariance(clusters4)));\n",
    "\n",
    "# Plot everything in four subplots\n",
    "fig = plt.figure();\n",
    "plt.subplots_adjust(top=2);\n",
    "ax1 = fig.add_subplot(221);\n",
    "ax1.scatter([X2[0,:]],[X2[1,:]],c=colors1);\n",
    "ax1.set_title('rbf, discretize');\n",
    "ax2 = fig.add_subplot(222);\n",
    "ax2.scatter([X2[0,:]],[X2[1,:]],c=colors2);\n",
    "ax2.set_title('rbf, kmeans');\n",
    "ax3 = fig.add_subplot(223);\n",
    "ax3.scatter([X2[0,:]],[X2[1,:]],c=colors3);\n",
    "ax3.set_title('nearest neighbors, discretize');\n",
    "ax4 = fig.add_subplot(224);\n",
    "ax4.scatter([X2[0,:]],[X2[1,:]],c=colors4);\n",
    "ax4.set_title('nearest neighbors, kmeans');"
   ]
  },
  {
   "cell_type": "markdown",
   "metadata": {},
   "source": [
    "# Dataset 3: Exam Results of Students"
   ]
  },
  {
   "cell_type": "markdown",
   "metadata": {},
   "source": [
    "Note: this dataset was used in place of the Households with Married Couples dataset. We were planning to regress on the number of U.S. households with married couples by year. However, were realized that the dataset was very small (~70 one-dimensional samples), so the result would be easily to predict with maximum possible accuracy by simply using an interpolating polynomial or similar method. Thus we decided on this dataset to run regression on, since it contains 1000 multi-dimensional inputs."
   ]
  },
  {
   "cell_type": "markdown",
   "metadata": {},
   "source": [
    "## Preprocessing"
   ]
  },
  {
   "cell_type": "markdown",
   "metadata": {},
   "source": [
    "This dataset is presented in the form of a csv file with a list of student's exam scores given certain parameters. Our goal for this assignment is to see if we can predict the scores of a student based on these factors. In the preprocessing stage we standardize the data and perform 2D PCA. We also declare some functions that will be useful in regression. One challenge we faced was how to encode some of the non-binary data: race/ethnicity and parents' level of education, which can take on 5 or 6 values respectively. We encoded them as 5-bit and 6-bit strings, so that they could all be equidistant, since we're assuming each of the values are unrelated."
   ]
  },
  {
   "cell_type": "code",
   "execution_count": 19,
   "metadata": {},
   "outputs": [
    {
     "name": "stdout",
     "output_type": "stream",
     "text": [
      "(1000L, 14L)\n"
     ]
    }
   ],
   "source": [
    "import csv\n",
    "import numpy as np\n",
    "import matplotlib.pyplot as plt\n",
    "\n",
    "featureLabels = set([\n",
    "    \"gender\",\n",
    "    \"race/ethnicity\",\n",
    "    \"parental level of education\",\n",
    "    \"lunch\",\n",
    "    \"test preparation course\"\n",
    "])\n",
    "featureMaps = {}\n",
    "reverseMaps = {}\n",
    "featureMaps[\"gender\"] = {\n",
    "    \"male\"   : [0],\n",
    "    \"female\" : [1]\n",
    "}\n",
    "featureMaps[\"race/ethnicity\"] = {\n",
    "    \"group A\" : [1, 0, 0, 0, 0],\n",
    "    \"group B\" : [0, 1, 0, 0, 0],\n",
    "    \"group C\" : [0, 0, 1, 0, 0],\n",
    "    \"group D\" : [0, 0, 0, 1, 0],\n",
    "    \"group E\" : [0, 0, 0, 0, 1]\n",
    "}\n",
    "featureMaps[\"parental level of education\"] = {\n",
    "    \"some high school\"   : [1, 0, 0, 0, 0, 0],\n",
    "    \"some college\"       : [0, 1, 0, 0, 0, 0],\n",
    "    \"bachelor's degree\"  : [0, 0, 1, 0, 0, 0],\n",
    "    \"master's degree\"    : [0, 0, 0, 1, 0, 0],\n",
    "    \"high school\"        : [0, 0, 0, 0, 1, 0],\n",
    "    \"associate's degree\" : [0, 0, 0, 0, 0, 1]\n",
    "}\n",
    "featureMaps[\"lunch\"] = {\n",
    "    \"standard\"     : [0],\n",
    "    \"free/reduced\" : [1]\n",
    "}\n",
    "featureMaps[\"test preparation course\"] = {\n",
    "    \"none\"      : [0],\n",
    "    \"completed\" : [1]\n",
    "}\n",
    "for key in featureMaps:\n",
    "    reverseMaps[key] = {str(v): k for k, v in featureMaps[key].iteritems()}\n",
    "\n",
    "regressionLabels = set([\n",
    "    \"math score\",\n",
    "    \"reading score\",\n",
    "    \"writing score\"\n",
    "])\n",
    "\n",
    "def featuresToVector(features, usedFeatures = None):\n",
    "    \"\"\"\n",
    "    features is a dictionary with keys in featureLabels above\n",
    "    Takes the features and returns a vector (array of 1's/0's corresponding to it)\n",
    "    \"\"\"\n",
    "    if usedFeatures is None:\n",
    "        usedFeatures = featureLabels\n",
    "    result = []\n",
    "    for label in usedFeatures:\n",
    "        currMap = featureMaps[label]\n",
    "        currVal = features[label]\n",
    "        result += currMap[currVal]\n",
    "    return result\n",
    "\n",
    "def vectorToFeatures(v, usedFeatures = None):\n",
    "    \"\"\"\n",
    "    Exactly the reverse of the function above.\n",
    "    \"\"\"\n",
    "    if usedFeatures is None:\n",
    "        usedFeatures = featureLabels\n",
    "    result = {}\n",
    "    vTmp = v\n",
    "    for label in usedFeatures:\n",
    "        currMap = featureMaps[label]\n",
    "        currLen = len(currMap.values()[0])\n",
    "        currVector = vTmp[:currLen]\n",
    "        vTmp       = vTmp[currLen:]\n",
    "        currReverseMap = reverseMaps[label]\n",
    "        result[label] = currReverseMap[str(currVector)]\n",
    "    return result\n",
    "\n",
    "def testFeatureConversions():\n",
    "    \"\"\"\n",
    "    Test to check that feature conversions work (featuresToVector and vectorToFeatures)\n",
    "    \"\"\"\n",
    "    with open('students-performance-in-exams/StudentsPerformance.csv', 'rb') as f:\n",
    "        csvReader = csv.DictReader(f)\n",
    "        for features in csvReader:\n",
    "            currVector = featuresToVector(features)\n",
    "            currFeatures = vectorToFeatures(currVector)\n",
    "            for label in featureLabels:\n",
    "                assert features[label] == currFeatures[label]\n",
    "                \n",
    "def addOneCol(XOld):\n",
    "    mOld, nOld = XOld.shape\n",
    "    X = np.ones( (mOld, nOld + 1) )\n",
    "    X[:, :-1] = XOld\n",
    "    return X\n",
    "                \n",
    "def calcDataMatrix(usedFeatures = None):\n",
    "    \"\"\"\n",
    "    Returns the X matrix used in linear regression. Adds in the 1 term at the end.\n",
    "    \"\"\"\n",
    "    result = []\n",
    "    with open('students-performance-in-exams/StudentsPerformance.csv', 'rb') as f:\n",
    "        csvReader = csv.DictReader(f)\n",
    "        for features in csvReader:\n",
    "            currVector = featuresToVector(features, usedFeatures)\n",
    "            result.append(currVector)\n",
    "    return np.array(result)\n",
    "\n",
    "def calcOutputVector(label):\n",
    "    \"\"\"\n",
    "    Returns a y vector on label. label can be any value from regressionLabels\n",
    "    \"\"\"\n",
    "    assert label in regressionLabels\n",
    "    \n",
    "    result = []\n",
    "    with open('students-performance-in-exams/StudentsPerformance.csv', 'rb') as f:\n",
    "        csvReader = csv.DictReader(f)\n",
    "        for features in csvReader:\n",
    "            result.append(int(features[label]))\n",
    "    return np.array(result, ndmin=2).T\n",
    "\n",
    "\n",
    "# Uncomment to test feature conversions\n",
    "# testFeatureConversions()\n",
    "\n",
    "# X is the data vector from preprocessing\n",
    "X = calcDataMatrix()\n",
    "X = preprocessing.scale(X, axis = 1)\n",
    "print(X.shape)"
   ]
  },
  {
   "cell_type": "markdown",
   "metadata": {},
   "source": [
    "## Utility Functions"
   ]
  },
  {
   "cell_type": "code",
   "execution_count": 40,
   "metadata": {},
   "outputs": [],
   "source": [
    "def makeScatterPlot(title, pointsLists, colors, markers, xlabel = '', ylabel = ''):\n",
    "    # Create plot\n",
    "    fig = plt.figure()\n",
    "    ax = fig.add_subplot(1, 1, 1)\n",
    "     \n",
    "    for i, pointsList in enumerate(pointsLists):\n",
    "        currColor = colors[i]\n",
    "        currMarker = markers[i]\n",
    "        for point in pointsList:\n",
    "            x, y = point\n",
    "            ax.scatter(x, y, c=currColor, marker=currMarker)\n",
    "        \n",
    "    # Temporary, add line\n",
    "    axes = plt.gca()\n",
    "    x_vals = np.array(axes.get_xlim())\n",
    "    y_vals = 0 + 1 * x_vals\n",
    "    plt.plot(x_vals, y_vals, '--')\n",
    "    \n",
    "    # plt.xlim(0, 100)\n",
    "    # plt.ylim(0, 100)\n",
    "    plt.title(title)\n",
    "    plt.xlabel(xlabel)\n",
    "    plt.ylabel(ylabel)\n",
    "    plt.legend(loc=2)\n",
    "    plt.show()\n",
    "\n",
    "def calcError(y1, y2):\n",
    "    return abs(y1 - y2)\n",
    "\n",
    "def KCVsplit(k, X, y):\n",
    "    \"\"\"\n",
    "    Splits the training data (X) into k folds in which one fold is used for testing\n",
    "    and all the others are used for training. Does this k times. \n",
    "    \n",
    "    :param int k\n",
    "    :param np.array X\n",
    "    :param np.array y\n",
    "    :return: (folds, Xlist, ylist, table) where folds is a list of all \n",
    "             the folds, Xlist is a list of np.arrays\n",
    "             corresponding to the X used for training in each iteration \n",
    "             (all the folds except for index i),\n",
    "             ylist is a list of np.arrays corresponding to the y used for training\n",
    "             and table is a hash table mapping rows in X to their corresponding\n",
    "             label y.\n",
    "    :rtype: tuple of (list of np.array, np.array, np.array, dict)\n",
    "    \"\"\"\n",
    "    Xlist = []\n",
    "    ylist = []\n",
    "    table = {}\n",
    "    \n",
    "    # Set table up\n",
    "    for i, row in enumerate(X):\n",
    "        table[str(row)] = y[i]\n",
    "    \n",
    "    # Split X up into folds\n",
    "    stepSize = int(X.shape[0] / k) + 1\n",
    "    steps = [min(X.shape[0], stepSize * n) for n in range(1, k)]\n",
    "    folds = np.split(X, steps)\n",
    "    foldLabels = np.split(y, steps)\n",
    "    \n",
    "    for i, currFold in enumerate(folds):\n",
    "        # Get XTrain and yTrain with all the other folds except currFold\n",
    "        otherFolds = [otherFold for j, otherFold in enumerate(folds) if j != i]\n",
    "        otherFoldLabels = [label for j, label in enumerate(foldLabels) if j != i]\n",
    "        XTrain = otherFolds[0]\n",
    "        yTrain = otherFoldLabels[0]\n",
    "        for j in range(1, len(otherFolds)):\n",
    "            XTrain = np.append(XTrain, otherFolds[j], axis=0)\n",
    "            yTrain = np.append(yTrain, otherFoldLabels[j], axis=0)\n",
    "        Xlist.append(XTrain)\n",
    "        ylist.append(yTrain)\n",
    "    \n",
    "    return (folds, Xlist, ylist, table)\n",
    "\n",
    "def performValidation(k, X, y, model, plotDiffs = False):\n",
    "    \"\"\"\n",
    "    Performs cross validation\n",
    "    \"\"\"\n",
    "    folds, Xlist, ylist, table = KCVsplit(k, X, y)\n",
    "    \n",
    "    # For each fold i, use i as testing, and use all the other\n",
    "    # i - 1 folds for training. Calculate the errors for each and store\n",
    "    # them in avgErrors\n",
    "    predTable = {}\n",
    "    avgErrors = []\n",
    "    for i in range(len(Xlist)):\n",
    "        currFold = folds[i]\n",
    "        XTrain = Xlist[i]\n",
    "        yTrain = ylist[i]\n",
    "        \n",
    "        # Train the model\n",
    "        model.fit(XTrain, yTrain)\n",
    "        \n",
    "        # Now, evaluate the trained model against the actual labels,\n",
    "        # keep track of total error!\n",
    "        totalError = 0\n",
    "        for row in currFold:\n",
    "            \n",
    "            # Get the current predicted value\n",
    "            currRow = row.reshape(1, -1)\n",
    "            yPredicted = model.predict(currRow)\n",
    "            \n",
    "            totalError += calcError(yPredicted[0], table[str(row)][0])\n",
    "            predTable[str(row)] = yPredicted\n",
    "        totalError /= len(currFold)\n",
    "        avgErrors.append(totalError)\n",
    "          \n",
    "    predictions = []\n",
    "    actuals = []\n",
    "    plotPoints = []\n",
    "    for row in X:\n",
    "        hashVal = str(row)\n",
    "        predictions.append(predTable[hashVal][0])\n",
    "        actuals.append(table[hashVal][0])\n",
    "    plotPoints = [(predictions[i], actuals[i]) for i in range(len(actuals))]\n",
    "\n",
    "    # Optionally, plot the measured vs predicted values\n",
    "    if plotDiffs:\n",
    "        makeScatterPlot(\"Measured vs Predicted\", \n",
    "                        [plotPoints], \n",
    "                        ['r'], \n",
    "                        ['.'],\n",
    "                        'Predicted',\n",
    "                        'Actual')\n",
    "    return avgErrors\n",
    "\n",
    "def calcRegParameter(modelConstructor, vals, k, X, y, *argv):\n",
    "    \"\"\"\n",
    "    Calculates the best regularization parameter (specified in kwargs) for the \n",
    "    model whose constructor is passed in as modelConstructor.\n",
    "    from the discretized values present in vals.\n",
    "    Does this by k-fold cross validation on X and y.\n",
    "    Returns a dictionary mapping each value in argv to the best value for it.\n",
    "    \"\"\"\n",
    "    result = {}\n",
    "    for key in argv:\n",
    "        minError = float('inf')\n",
    "        minVal = float('inf')\n",
    "        for val in vals:\n",
    "            folds, XOuterList, yOuterList, table = KCVsplit(k, X, y)\n",
    "            # Do k-fold CV on the current X and y (which leaves one out)\n",
    "            for i in range(len(XOuterList)):\n",
    "                Xcurr = XOuterList[i]\n",
    "                ycurr = yOuterList[i]\n",
    "                model = modelConstructor(**{key:val})\n",
    "                avgErrors = performValidation(k, Xcurr, ycurr, model, plotDiffs = False)\n",
    "                \n",
    "                # Update best lambda value if needed\n",
    "                currError = np.mean(avgErrors)\n",
    "                if currError < minError:\n",
    "                    minError = currError\n",
    "                    minVal = val\n",
    "        result[key] = minVal\n",
    "    return result\n",
    "    "
   ]
  },
  {
   "cell_type": "markdown",
   "metadata": {},
   "source": [
    "## Least Squares Regression (Lester Fan)"
   ]
  },
  {
   "cell_type": "markdown",
   "metadata": {},
   "source": [
    "Here we perform least-squares regression on the 2D data features. We manage to predict students' test results with a 10-point average error."
   ]
  },
  {
   "cell_type": "code",
   "execution_count": 46,
   "metadata": {
    "scrolled": false
   },
   "outputs": [
    {
     "name": "stdout",
     "output_type": "stream",
     "text": [
      "Performing cross validation for regression on math score.\n"
     ]
    },
    {
     "data": {
      "image/png": "[encoded data removed]",
      "text/plain": [
       "<Figure size 432x288 with 1 Axes>"
      ]
     },
     "metadata": {},
     "output_type": "display_data"
    },
    {
     "name": "stdout",
     "output_type": "stream",
     "text": [
      "The model coefficients are\n",
      "[[ -50.8125    ]\n",
      " [-126.0625    ]\n",
      " [-124.15625   ]\n",
      " [-125.125     ]\n",
      " [-124.        ]\n",
      " [-121.875     ]\n",
      " [ -46.625     ]\n",
      " [ -53.6875    ]\n",
      " [  16.3125    ]\n",
      " [  17.28125   ]\n",
      " [  19.25      ]\n",
      " [  18.53125   ]\n",
      " [  16.375     ]\n",
      " [  18.375     ]\n",
      " [ 102.62249637]]\n",
      "The average prediction error is 10.6129052172\n",
      "Performing cross validation for regression on writing score.\n"
     ]
    },
    {
     "data": {
      "image/png": "[encoded data removed]",
      "text/plain": [
       "<Figure size 432x288 with 1 Axes>"
      ]
     },
     "metadata": {},
     "output_type": "display_data"
    },
    {
     "name": "stdout",
     "output_type": "stream",
     "text": [
      "The model coefficients are\n",
      "[[-15.671875  ]\n",
      " [  2.4375    ]\n",
      " [  4.015625  ]\n",
      " [  2.140625  ]\n",
      " [  3.765625  ]\n",
      " [  4.453125  ]\n",
      " [-15.875     ]\n",
      " [-23.6875    ]\n",
      " [-43.109375  ]\n",
      " [-40.953125  ]\n",
      " [-39.21875   ]\n",
      " [-39.8125    ]\n",
      " [-43.046875  ]\n",
      " [-40.703125  ]\n",
      " [ 54.89913036]]\n",
      "The average prediction error is 10.3026833176\n",
      "Performing cross validation for regression on reading score.\n"
     ]
    },
    {
     "data": {
      "image/png": "[encoded data removed]",
      "text/plain": [
       "<Figure size 432x288 with 1 Axes>"
      ]
     },
     "metadata": {},
     "output_type": "display_data"
    },
    {
     "name": "stdout",
     "output_type": "stream",
     "text": [
      "The model coefficients are\n",
      "[[-16.375     ]\n",
      " [-15.4375    ]\n",
      " [-15.9375    ]\n",
      " [-15.5       ]\n",
      " [-15.09375   ]\n",
      " [-13.46875   ]\n",
      " [-16.875     ]\n",
      " [-22.75      ]\n",
      " [-26.375     ]\n",
      " [-24.90625   ]\n",
      " [-23.25      ]\n",
      " [-23.75      ]\n",
      " [-26.5625    ]\n",
      " [-23.875     ]\n",
      " [ 65.31104566]]\n",
      "The average prediction error is 10.1289583774\n"
     ]
    }
   ],
   "source": [
    "from sklearn import preprocessing\n",
    "from sklearn.linear_model import LinearRegression\n",
    "\n",
    "class LSModel(object):\n",
    "    def __init__(self):\n",
    "        self.X = None\n",
    "        self.y = None\n",
    "        self.w = None\n",
    "        self.coef_ = None\n",
    "        \n",
    "    def LSTrain(self, X, y):\n",
    "        # Calculate w = (X^tX)^{-1}X^tY and return it\n",
    "        w = np.matmul(\n",
    "                np.linalg.inv(np.matmul(X.T, X)),\n",
    "                np.matmul(X.T, y)\n",
    "        )\n",
    "        return w\n",
    "    \n",
    "    def fit(self, X, y):\n",
    "        self.X = addOneCol(X)\n",
    "        self.y = y\n",
    "        self.w = self.LSTrain(self.X, self.y)\n",
    "        self.coef_ = self.w\n",
    "        \n",
    "    def predict(self, x):\n",
    "        xNew = addOneCol(x).T\n",
    "        result = [0]\n",
    "        result = np.matmul(\n",
    "            self.w.T,\n",
    "            xNew\n",
    "        )\n",
    "        return result\n",
    "\n",
    "# Set this to true to use scikit learn.\n",
    "useScikit = False\n",
    "k = 5\n",
    "for label in regressionLabels:\n",
    "    print(\"Performing cross validation for regression on {}.\".format(label))\n",
    "    y = calcOutputVector(label)\n",
    "    if useScikit:\n",
    "        model = LinearRegression()\n",
    "    else:\n",
    "        model = LSModel()\n",
    "    model.fit(X, y)\n",
    "    avgErrors = performValidation(k, X, y, model, plotDiffs = True)\n",
    "    finalAvgError = np.mean(avgErrors)\n",
    "    print(\"The model coefficients are\")\n",
    "    print(model.coef_)\n",
    "    print(\"The average prediction error is {}\".format(finalAvgError))\n"
   ]
  },
  {
   "cell_type": "markdown",
   "metadata": {},
   "source": [
    "## Ridge Regression (Bill Lee)"
   ]
  },
  {
   "cell_type": "markdown",
   "metadata": {},
   "source": [
    "Here we perform ridge regression, which is similar to least-squares but with a penalty parameter. We reduce the error down below 10 in the best case."
   ]
  },
  {
   "cell_type": "code",
   "execution_count": 47,
   "metadata": {
    "scrolled": false
   },
   "outputs": [
    {
     "name": "stdout",
     "output_type": "stream",
     "text": [
      "Performing cross validation for regression on math score.\n",
      "Best lambda value is 0.0\n"
     ]
    },
    {
     "data": {
      "image/png": "[encoded data removed]",
      "text/plain": [
       "<Figure size 432x288 with 1 Axes>"
      ]
     },
     "metadata": {},
     "output_type": "display_data"
    },
    {
     "name": "stdout",
     "output_type": "stream",
     "text": [
      "The model coefficients are\n",
      "[[ -50.8125    ]\n",
      " [-126.0625    ]\n",
      " [-124.15625   ]\n",
      " [-125.125     ]\n",
      " [-124.        ]\n",
      " [-121.875     ]\n",
      " [ -46.625     ]\n",
      " [ -53.6875    ]\n",
      " [  16.3125    ]\n",
      " [  17.28125   ]\n",
      " [  19.25      ]\n",
      " [  18.53125   ]\n",
      " [  16.375     ]\n",
      " [  18.375     ]\n",
      " [ 102.62249637]]\n",
      "The average prediction error is 10.6129052172\n",
      "Performing cross validation for regression on writing score.\n",
      "Best lambda value is 0.0512820512821\n"
     ]
    },
    {
     "data": {
      "image/png": "[encoded data removed]",
      "text/plain": [
       "<Figure size 432x288 with 1 Axes>"
      ]
     },
     "metadata": {},
     "output_type": "display_data"
    },
    {
     "name": "stdout",
     "output_type": "stream",
     "text": [
      "The model coefficients are\n",
      "[[ 4.06915938]\n",
      " [ 3.09953179]\n",
      " [ 3.48577284]\n",
      " [ 3.99020743]\n",
      " [ 5.28761552]\n",
      " [ 5.07874691]\n",
      " [ 4.70287039]\n",
      " [-3.21454115]\n",
      " [-6.45987196]\n",
      " [-4.84606201]\n",
      " [-2.54458625]\n",
      " [-2.40659324]\n",
      " [-6.19083238]\n",
      " [-4.05141726]\n",
      " [63.02879661]]\n",
      "The average prediction error is 10.0867179976\n",
      "Performing cross validation for regression on reading score.\n",
      "Best lambda value is 0.0512820512821\n"
     ]
    },
    {
     "data": {
      "image/png": "[encoded data removed]",
      "text/plain": [
       "<Figure size 432x288 with 1 Axes>"
      ]
     },
     "metadata": {},
     "output_type": "display_data"
    },
    {
     "name": "stdout",
     "output_type": "stream",
     "text": [
      "The model coefficients are\n",
      "[[ 3.11876914]\n",
      " [ 2.12416803]\n",
      " [ 2.25769099]\n",
      " [ 2.6935812 ]\n",
      " [ 3.40803141]\n",
      " [ 4.07788515]\n",
      " [ 3.47198296]\n",
      " [-2.8424435 ]\n",
      " [-4.4662024 ]\n",
      " [-3.58897565]\n",
      " [-1.71346783]\n",
      " [-1.35093902]\n",
      " [-4.46367351]\n",
      " [-2.72640697]\n",
      " [65.92065307]]\n",
      "The average prediction error is 9.79989845277\n"
     ]
    }
   ],
   "source": [
    "class RRModel(object):\n",
    "    def __init__(self, L = 1):\n",
    "        self.X = None\n",
    "        self.y = None\n",
    "        self.w = None\n",
    "        self.L = L\n",
    "        self.coef_ = None\n",
    "        \n",
    "    def RRTrain(self, X, y, L):\n",
    "        # Calculate Xmult = X^tX + L*I\n",
    "        Xmult = np.matmul(X.T, X)\n",
    "        for i in range(Xmult.shape[0]):\n",
    "            Xmult[i][i] += L\n",
    "            \n",
    "        # Calculate w = (X^tX + L*I)^{-1}X^tY and return it\n",
    "        w = np.matmul(\n",
    "                np.linalg.inv(Xmult),\n",
    "                np.matmul(X.T, y)\n",
    "        )\n",
    "        return w\n",
    "\n",
    "    def fit(self, X, y):\n",
    "        self.X = addOneCol(X)\n",
    "        self.y = y\n",
    "        self.w = self.RRTrain(self.X, self.y, self.L)\n",
    "        self.coef_ = self.w\n",
    "        \n",
    "    def predict(self, x):\n",
    "        xNew = addOneCol(x).T\n",
    "        result = [0]\n",
    "        result = np.matmul(\n",
    "            self.w.T,\n",
    "            xNew\n",
    "        )\n",
    "        return result\n",
    "    \n",
    "# Set this to true to use scikit learn.\n",
    "useScikit = False\n",
    "vals = np.linspace(0, 2, num = 40)\n",
    "k = 5\n",
    "for label in regressionLabels:\n",
    "    print(\"Performing cross validation for regression on {}.\".format(label))\n",
    "    y = calcOutputVector(label)\n",
    "    if useScikit:\n",
    "        model = LinearRegression()\n",
    "    else:\n",
    "        Lbest = calcRegParameter(RRModel, vals, k, X, y, \"L\")[\"L\"]\n",
    "        print(\"Best lambda value is {}\".format(Lbest))\n",
    "        model = RRModel(L = Lbest)\n",
    "    avgErrors = performValidation(k, X, y, model, plotDiffs = True)\n",
    "    finalAvgError = np.mean(avgErrors)\n",
    "    print(\"The model coefficients are\")\n",
    "    print(model.coef_)\n",
    "    print(\"The average prediction error is {}\".format(finalAvgError))\n",
    "    "
   ]
  },
  {
   "cell_type": "markdown",
   "metadata": {},
   "source": [
    "## Lasso Regression (Anton Maliev)"
   ]
  },
  {
   "cell_type": "markdown",
   "metadata": {},
   "source": [
    "Here we perform lasso regression, which also shows an improvement in average error compared to least-squares."
   ]
  },
  {
   "cell_type": "code",
   "execution_count": 48,
   "metadata": {},
   "outputs": [
    {
     "name": "stdout",
     "output_type": "stream",
     "text": [
      "Performing cross validation for regression on math score.\n",
      "The best alpha value is 0.01\n"
     ]
    },
    {
     "data": {
      "image/png": "[encoded data removed]",
      "text/plain": [
       "<Figure size 432x288 with 1 Axes>"
      ]
     },
     "metadata": {},
     "output_type": "display_data"
    },
    {
     "name": "stdout",
     "output_type": "stream",
     "text": [
      "The model coefficients are\n",
      "[-1.93292555 -0.81336443 -0.17954745  0.          1.09903318  2.96837077\n",
      "  2.56109677 -4.53316409 -1.26546577 -0.          1.64841344  1.41174292\n",
      " -1.09406526  0.67707371]\n",
      "The average prediction error is 10.5051690158\n",
      "Performing cross validation for regression on writing score.\n",
      "The best alpha value is 0.01\n"
     ]
    },
    {
     "data": {
      "image/png": "[encoded data removed]",
      "text/plain": [
       "<Figure size 432x288 with 1 Axes>"
      ]
     },
     "metadata": {},
     "output_type": "display_data"
    },
    {
     "name": "stdout",
     "output_type": "stream",
     "text": [
      "The model coefficients are\n",
      "[ 4.33638296 -0.87664778 -0.49995615 -0.          1.289565    1.07576316\n",
      "  4.97503152 -2.92643153 -2.39807517 -0.78347908  1.49394747  1.6250985\n",
      " -2.12884221  0.        ]\n",
      "The average prediction error is 10.0881122157\n",
      "Performing cross validation for regression on reading score.\n",
      "The best alpha value is 0.01\n"
     ]
    },
    {
     "data": {
      "image/png": "[encoded data removed]",
      "text/plain": [
       "<Figure size 432x288 with 1 Axes>"
      ]
     },
     "metadata": {},
     "output_type": "display_data"
    },
    {
     "name": "stdout",
     "output_type": "stream",
     "text": [
      "The model coefficients are\n",
      "[ 3.29132465 -0.55473863 -0.43128347 -0.          0.7059042   1.37120857\n",
      "  3.64756356 -2.65094302 -1.72865077 -0.85130417  1.00096138  1.35569751\n",
      " -1.72654135  0.        ]\n",
      "The average prediction error is 9.80185587903\n"
     ]
    }
   ],
   "source": [
    "from sklearn import linear_model\n",
    "\n",
    "# Use scikit learn for this since we did not learn a closed-form solution in class.\n",
    "vals = np.linspace(0.01, 2, num = 40)\n",
    "k = 5\n",
    "for label in regressionLabels:\n",
    "    print(\"Performing cross validation for regression on {}.\".format(label))\n",
    "    y = calcOutputVector(label)\n",
    "    alphaBest = calcRegParameter(linear_model.Lasso, vals, k, X, y, \"alpha\")[\"alpha\"]\n",
    "    print(\"The best alpha value is {}\".format(alphaBest))\n",
    "    model = linear_model.Lasso(alpha = alphaBest)\n",
    "    avgErrors = performValidation(k, X, y, model, plotDiffs = True)\n",
    "    print(\"The model coefficients are\")\n",
    "    print(model.coef_)\n",
    "    finalAvgError = np.mean(avgErrors)\n",
    "    print(\"The average prediction error is {}\".format(finalAvgError))"
   ]
  }
 ],
 "metadata": {
  "kernelspec": {
   "display_name": "Python 3",
   "language": "python",
   "name": "python3"
  },
  "language_info": {
   "codemirror_mode": {
    "name": "ipython",
    "version": 3
   },
   "file_extension": ".py",
   "mimetype": "text/x-python",
   "name": "python",
   "nbconvert_exporter": "python",
   "pygments_lexer": "ipython3",
   "version": "3.6.5"
  }
 },
 "nbformat": 4,
 "nbformat_minor": 2
}
