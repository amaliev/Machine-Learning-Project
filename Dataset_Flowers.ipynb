{
 "cells": [
  {
   "cell_type": "markdown",
   "metadata": {},
   "source": [
    "# k-Nearest Neighbors (Bill Lee)"
   ]
  },
  {
   "cell_type": "markdown",
   "metadata": {},
   "source": [
    "# Support Vector Machine (Lester Fan)"
   ]
  },
  {
   "cell_type": "markdown",
   "metadata": {},
   "source": [
    "# k-Means Clustering (Anton Maliev)"
   ]
  },
  {
   "cell_type": "markdown",
   "metadata": {},
   "source": [
    "### Preprocessing"
   ]
  },
  {
   "cell_type": "code",
   "execution_count": 9,
   "metadata": {},
   "outputs": [],
   "source": [
    "import numpy as np\n",
    "from matplotlib import pyplot as plt \n",
    "from PIL import Image\n",
    "import glob\n",
    "from skimage.io import imread\n",
    "\n",
    "daisy,dandelion,rose,sunflower,tulip = [],[],[],[],[]\n",
    "\n",
    "for filename in glob.glob('flowerscomp/daisy/*.jpg'): # for daisies\n",
    "    im = imread(filename,True).flatten()\n",
    "    daisy.append(im)    \n",
    "\n",
    "for filename in glob.glob('flowerscomp/dandelion/*.jpg'): # for dandelion\n",
    "    im = imread(filename,True).flatten()\n",
    "    dandelion.append(im)\n",
    "    \n",
    "for filename in glob.glob('flowerscomp/rose/*.jpg'): # for roses\n",
    "    im = imread(filename,True).flatten()\n",
    "    rose.append(im)\n",
    "    \n",
    "for filename in glob.glob('flowerscomp/sunflower/*.jpg'): # for sunflowers\n",
    "    im = imread(filename,True).flatten()\n",
    "    sunflower.append(im)\n",
    "    \n",
    "for filename in glob.glob('flowerscomp/tulip/*.jpg'): # for tulip\n",
    "    im = imread(filename,True).flatten()\n",
    "    tulip.append(im)"
   ]
  },
  {
   "cell_type": "code",
   "execution_count": 15,
   "metadata": {},
   "outputs": [],
   "source": [
    "daisy_arr=np.asarray(daisy)\n",
    "dandelion_arr=np.asarray(dandelion)\n",
    "rose_arr=np.asarray(rose)\n",
    "sunflower_arr=np.asarray(sunflower)\n",
    "tulip_arr=np.asarray(tulip)\n",
    "\n",
    "# daisy = 0, dandelion = 1, rose = 2, sunflower = 3, tulip = 4\n"
   ]
  },
  {
   "cell_type": "markdown",
   "metadata": {},
   "source": []
  },
  {
   "cell_type": "code",
   "execution_count": null,
   "metadata": {},
   "outputs": [],
   "source": []
  }
 ],
 "metadata": {
  "kernelspec": {
   "display_name": "Python 3",
   "language": "python",
   "name": "python3"
  },
  "language_info": {
   "codemirror_mode": {
    "name": "ipython",
    "version": 3
   },
   "file_extension": ".py",
   "mimetype": "text/x-python",
   "name": "python",
   "nbconvert_exporter": "python",
   "pygments_lexer": "ipython3",
   "version": "3.6.5"
  }
 },
 "nbformat": 4,
 "nbformat_minor": 2
}
