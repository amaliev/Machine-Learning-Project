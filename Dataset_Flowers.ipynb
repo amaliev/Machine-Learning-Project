{
 "cells": [
  {
   "cell_type": "markdown",
   "metadata": {},
   "source": [
    "# k-Nearest Neighbors (Bill Lee)"
   ]
  },
  {
   "cell_type": "markdown",
   "metadata": {},
   "source": [
    "# Support Vector Machine (Lester Fan)"
   ]
  },
  {
   "cell_type": "markdown",
   "metadata": {},
   "source": [
    "# k-Means Clustering (Anton Maliev)"
   ]
  },
  {
   "cell_type": "markdown",
   "metadata": {},
   "source": [
    "### Preprocessing"
   ]
  },
  {
   "cell_type": "code",
   "execution_count": 11,
   "metadata": {},
   "outputs": [],
   "source": [
    "import numpy as np\n",
    "from matplotlib import pyplot as plt \n",
    "from PIL import Image\n",
    "import glob\n",
    "from skimage.io import imread\n",
    "\n",
    "daisy,dandelion,rose,sunflower,tulip = [],[],[],[],[]\n",
    "\n",
    "for filename in glob.glob('flowers/daisy/*.jpg'): # for daisies\n",
    "    im = imread(filename,True)\n",
    "    \n",
    "    daisy.append(im)    \n",
    "\n",
    "for filename in glob.glob('flowers/dandelion/*.jpg'): # for dandelion\n",
    "    im = imread(filename,True)\n",
    "    dandelion.append(im)\n",
    "    \n",
    "for filename in glob.glob('flowers/rose/*.jpg'): # for roses\n",
    "    im = imread(filename,True)\n",
    "    rose.append(im)\n",
    "    \n",
    "for filename in glob.glob('flowers/sunflower/*.jpg'): # for sunflowers\n",
    "    im = imread(filename,True)\n",
    "    sunflower.append(im)\n",
    "    \n",
    "for filename in glob.glob('flowers/tulip/*.jpg'): # for tulip\n",
    "    im = imread(filename,True)\n",
    "    tulip.append(im)"
   ]
  },
  {
   "cell_type": "code",
   "execution_count": 12,
   "metadata": {},
   "outputs": [
    {
     "name": "stdout",
     "output_type": "stream",
     "text": [
      "(240, 320) (159, 240)\n"
     ]
    }
   ],
   "source": [
    "print(daisy[0].shape, daisy[1].shape)"
   ]
  },
  {
   "cell_type": "code",
   "execution_count": null,
   "metadata": {},
   "outputs": [],
   "source": []
  }
 ],
 "metadata": {
  "kernelspec": {
   "display_name": "Python 3",
   "language": "python",
   "name": "python3"
  },
  "language_info": {
   "codemirror_mode": {
    "name": "ipython",
    "version": 3
   },
   "file_extension": ".py",
   "mimetype": "text/x-python",
   "name": "python",
   "nbconvert_exporter": "python",
   "pygments_lexer": "ipython3",
   "version": "3.6.5"
  }
 },
 "nbformat": 4,
 "nbformat_minor": 2
}
