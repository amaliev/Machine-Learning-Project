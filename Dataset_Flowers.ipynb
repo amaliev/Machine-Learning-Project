{
 "cells": [
  {
   "cell_type": "markdown",
   "metadata": {},
   "source": [
    "# k-Nearest Neighbors (Bill Lee)"
   ]
  },
  {
   "cell_type": "markdown",
   "metadata": {},
   "source": [
    "# Support Vector Machine (Lester Fan)"
   ]
  },
  {
   "cell_type": "markdown",
   "metadata": {},
   "source": [
    "# k-Means Clustering (Anton Maliev)"
   ]
  },
  {
   "cell_type": "markdown",
   "metadata": {},
   "source": [
    "### Preprocessing"
   ]
  },
  {
   "cell_type": "code",
   "execution_count": 1,
   "metadata": {},
   "outputs": [],
   "source": [
    "import numpy as np\n",
    "from matplotlib import pyplot as plt \n",
    "import glob\n",
    "from skimage.io import imread\n",
    "\n",
    "daisy,dandelion,rose,sunflower,tulip = [],[],[],[],[]\n",
    "\n",
    "for filename in glob.glob('flowerscomp/daisy/*.jpg'): # for daisies\n",
    "    im = imread(filename,True).flatten()\n",
    "    daisy.append(im)    \n",
    "\n",
    "for filename in glob.glob('flowerscomp/dandelion/*.jpg'): # for dandelion\n",
    "    im = imread(filename,True).flatten()\n",
    "    dandelion.append(im)\n",
    "    \n",
    "for filename in glob.glob('flowerscomp/rose/*.jpg'): # for roses\n",
    "    im = imread(filename,True).flatten()\n",
    "    rose.append(im)\n",
    "    \n",
    "for filename in glob.glob('flowerscomp/sunflower/*.jpg'): # for sunflowers\n",
    "    im = imread(filename,True).flatten()\n",
    "    sunflower.append(im)\n",
    "    \n",
    "for filename in glob.glob('flowerscomp/tulip/*.jpg'): # for tulip\n",
    "    im = imread(filename,True).flatten()\n",
    "    tulip.append(im)"
   ]
  },
  {
   "cell_type": "code",
   "execution_count": 2,
   "metadata": {},
   "outputs": [],
   "source": [
    "daisy_arr=np.asarray(daisy)\n",
    "dandelion_arr=np.asarray(dandelion)\n",
    "rose_arr=np.asarray(rose)\n",
    "sunflower_arr=np.asarray(sunflower)\n",
    "tulip_arr=np.asarray(tulip)\n",
    "\n",
    "# daisy = 0, dandelion = 1, rose = 2, sunflower = 3, tulip = 4\n",
    "daisy_labels=np.zeros((len(daisy_arr),1))\n",
    "dandelion_labels=np.ones((len(dandelion_arr),1))\n",
    "rose_labels=2*np.ones((len(rose_arr),1))\n",
    "sunflower_labels=3*np.ones((len(sunflower_arr),1))\n",
    "tulip_labels=4*np.ones((len(tulip_arr),1))\n",
    "\n",
    "\n",
    "# Here are the labels and the dataset \n",
    "labels=np.vstack((daisy_labels,dandelion_labels,rose_labels,sunflower_labels,tulip_labels))\n",
    "dataset=np.vstack((daisy_arr,dandelion_arr,rose_arr,sunflower_arr,tulip_arr))"
   ]
  },
  {
   "cell_type": "markdown",
   "metadata": {},
   "source": [
    "### PCA on Dataset"
   ]
  },
  {
   "cell_type": "code",
   "execution_count": 35,
   "metadata": {},
   "outputs": [
    {
     "name": "stdout",
     "output_type": "stream",
     "text": [
      "Error is 270.71401031872523 for k = 2\n",
      "Error is 258.22814776831564 for k = 3\n",
      "Error is 249.90431566690026 for k = 4\n",
      "Error is 244.62078396212618 for k = 5\n",
      "Error is 239.64374768436633 for k = 6\n",
      "Error is 235.46863831553884 for k = 7\n",
      "Error is 231.57986720764995 for k = 8\n",
      "Error is 227.97764195755371 for k = 9\n"
     ]
    }
   ],
   "source": [
    "# Centering the dataset \n",
    "mean=np.reshape(dataset.T.mean(1),(len(dataset.T),1))\n",
    "centered=dataset.T-mean\n",
    "\n",
    "U,S,V=np.linalg.svd(centered)\n",
    "\n",
    "for k in range(2,10):\n",
    "    topk=U[:,0:k]\n",
    "    recon=topk@topk.T@centered\n",
    "    print(\"Error is\", np.linalg.norm(recon-centered),\"for k =\",k)"
   ]
  },
  {
   "cell_type": "code",
   "execution_count": 44,
   "metadata": {},
   "outputs": [],
   "source": [
    "finalTopk=U[:,0:6]\n",
    "new_dataset=finalTopk.T@centered\n",
    "\n",
    "def scramble(samples,labels):\n",
    "    fix_labels=np.reshape(labels,(1,labels.shape[0]))\n",
    "    mashed = np.vstack((samples,fix_labels)).T\n",
    "    np.random.shuffle(mashed)\n",
    "    labels_out = mashed.T[mashed.T.shape[0]-1]\n",
    "    samples_out = mashed.T[0:mashed.T.shape[0]-1]\n",
    "    return [samples_out,labels_out]\n",
    "    \n",
    "workable_samples, workable_labels = scramble(new_dataset,labels)"
   ]
  },
  {
   "cell_type": "code",
   "execution_count": null,
   "metadata": {},
   "outputs": [],
   "source": []
  }
 ],
 "metadata": {
  "kernelspec": {
   "display_name": "Python 3",
   "language": "python",
   "name": "python3"
  },
  "language_info": {
   "codemirror_mode": {
    "name": "ipython",
    "version": 3
   },
   "file_extension": ".py",
   "mimetype": "text/x-python",
   "name": "python",
   "nbconvert_exporter": "python",
   "pygments_lexer": "ipython3",
   "version": "3.6.5"
  }
 },
 "nbformat": 4,
 "nbformat_minor": 2
}
