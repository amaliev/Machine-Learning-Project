{
 "cells": [
  {
   "cell_type": "markdown",
   "metadata": {},
   "source": [
    "# Preprocessing"
   ]
  },
  {
   "cell_type": "code",
   "execution_count": 2,
   "metadata": {},
   "outputs": [],
   "source": [
    "import numpy as np;\n",
    "import csv;\n",
    "X = [];\n",
    "with open('Econ_Freedom_Data.csv') as csv_file:\n",
    "    csv_reader = csv.reader(csv_file, delimiter=',');\n",
    "    for row in csv_reader:\n",
    "        if row[0] == \"2016\":\n",
    "            v = [];\n",
    "            for i in range(6,36) :\n",
    "                if (row[i]==\"\") :\n",
    "                    v.append(-1.0);\n",
    "                else :\n",
    "                    v.append(float(row[i]));\n",
    "            X.append(v);\n",
    "i = 0;\n",
    "while i < np.shape(X)[0] :\n",
    "    v = X[i];\n",
    "    if -1.0 in v :\n",
    "        X = np.delete(X,i,0);\n",
    "    else :\n",
    "        i = i+1;\n",
    "meanv = np.repeat(np.reshape(np.asmatrix(X.mean(0)),(1,np.shape(X)[1])),np.shape(X)[0],axis=0);\n",
    "stdv = np.repeat(np.reshape(np.asmatrix(X.std(0)),(1,np.shape(X)[1])),np.shape(X)[0],axis=0);\n",
    "Xs = (X-meanv) / stdv;"
   ]
  },
  {
   "cell_type": "markdown",
   "metadata": {},
   "source": [
    "# k-Means Clustering (Lester Fan)"
   ]
  },
  {
   "cell_type": "markdown",
   "metadata": {},
   "source": [
    "# Gaussian Mixture Model (Bill Lee)"
   ]
  },
  {
   "cell_type": "code",
   "execution_count": 61,
   "metadata": {},
   "outputs": [],
   "source": [
    "from scipy.stats import multivariate_normal\n",
    "\n",
    "def computePi(probability_matrix,j):\n",
    "    extract_column = probability_matrix[:,j]\n",
    "    total_col = sum(extract_column)\n",
    "    return total_col/probability_matrix.shape[0]\n",
    "\n",
    "def computeMu(probability_matrix,dataset,j):\n",
    "    total_px = np.zeros((1,dataset.shape[1]))\n",
    "    for i in range(len(dataset)):\n",
    "        total_px += (probability_matrix[i][j]*dataset[i])\n",
    "    extract_column = probability_matrix[:,j]\n",
    "    total_col = sum(extract_column)\n",
    "    return total_px/total_col\n",
    "\n",
    "def computeCov(probability_matrix,dataset,j,mu):\n",
    "    total_cov = np.zeros((dataset.shape[1],dataset.shape[1]))\n",
    "    for i in range(len(dataset)):\n",
    "        xMinusMean = dataset[i] - mu\n",
    "        total_cov += probability_matrix[i][j]*(xMinusMean@xMinusMean.T)\n",
    "    extract_column = probability_matrix[:,j]\n",
    "    total_col = sum(extract_column)\n",
    "    return (1/total_col)*(total_cov)  \n",
    "\n",
    "def parent_pdf(datapoint,Pi,Mu,Cov,numberOfClusters):\n",
    "    # Computes the f_X(x)\n",
    "    total = 0\n",
    "    for j in range(numberOfClusters):\n",
    "        total += Pi[j]*(multivariate_normal.pdf(datapoint, Mu[j], Cov[j]))\n",
    "    return total\n",
    "\n",
    "def Pij_times_fj(Pi_j, Mu_j, Cov_j, j, datapoint):\n",
    "    return Pi_j*multivariate_normal.pdf(datapoint, mean=Mu_j, cov=Cov_j)\n",
    "\n",
    "def emAlgorithm(dataset,numberOfClusters):\n",
    "    # Expectation Maximization Algorithm\n",
    "    \n",
    "    Pi = [(1/numberOfClusters) for i in range(numberOfClusters)]\n",
    "    Mu = [10*np.random.rand(dataset.shape[1]) for i in range(numberOfClusters)]\n",
    "    Sigma = [np.identity(dataset.shape[1]) for i in range(numberOfClusters)]\n",
    "    \n",
    "    didNotConverge = True\n",
    "    probability_matrix = np.zeros((dataset.shape[0],numberOfClusters))\n",
    "    epsilon = 10\n",
    "    while didNotConverge:\n",
    "        Theta = [Pi, Mu, Sigma]\n",
    "        didNotConverge = False\n",
    "        # Estimation\n",
    "        for i in range(dataset.shape[0]):\n",
    "            denominator = parent_pdf(dataset[i],Pi,Mu,Sigma,numberOfClusters)\n",
    "            for j in range(numberOfClusters):\n",
    "                probability_matrix[i][j] = Pij_times_fj(Pi[j],Mu[j],Sigma[j],j,dataset[i])/denominator\n",
    "        # Maximization\n",
    "        for j in range(numberOfClusters):\n",
    "            Pi[j] = computePi(probability_matrix,j)\n",
    "            Mu[j] = computeMu(probability_matrix,dataset,j)\n",
    "            Sigma[j] = computeCov(probability_matrix,dataset,j,Mu[j])\n",
    "        \n",
    "        # Check Convergence\n",
    "        for j in range(numberOfClusters):\n",
    "            difference = np.linalg.norm(Theta[1][j]-Mu[j])\n",
    "            if(difference > 0.1):\n",
    "                didNotConverge = True\n",
    "    return [Pi, Mu, Sigma]\n",
    "\n",
    "\n",
    "U,S,V = np.linalg.svd(Xs.T)\n",
    "reduced = (U[:,[0,1]].T@Xs.T)\n",
    "\n",
    "out = emAlgorithm(reduced.T,5)\n"
   ]
  },
  {
   "cell_type": "code",
   "execution_count": 62,
   "metadata": {},
   "outputs": [
    {
     "data": {
      "text/plain": [
       "<matplotlib.collections.PathCollection at 0x1a22504be0>"
      ]
     },
     "execution_count": 62,
     "metadata": {},
     "output_type": "execute_result"
    },
    {
     "data": {
      "image/png": "[encoded data removed]",
      "text/plain": [
       "<Figure size 432x288 with 1 Axes>"
      ]
     },
     "metadata": {},
     "output_type": "display_data"
    }
   ],
   "source": [
    "import mpl_toolkits.mplot3d\n",
    "from matplotlib import pyplot as plt\n",
    "\n",
    "xset = reduced[0].tolist()[0]\n",
    "yset = reduced[1].tolist()[0]\n",
    "\n",
    "fig = plt.figure()\n",
    "ax = fig.add_subplot(111) \n",
    "ax.scatter(xset,yset,c='r')\n",
    "\n",
    "\n",
    "mxset = []\n",
    "myset = []\n",
    "for each in out[1]:\n",
    "    mxset.append(each.tolist()[0][0])\n",
    "    myset.append(each.tolist()[0][1])\n",
    "    \n",
    "def plotErrorEllipse(mu, Sigma, p)\n",
    "    s = -2 * log(1 - p);\n",
    "    [V, D] = np.linalg.eig(Sigma * s);\n",
    "    t = np.linspace(0, 2 * pi);\n",
    "    a = (V * (D**0.5)) * [cos(t[:]).T, sin(t[:]).T];\n",
    "\n",
    "    plot(a(1, :) + mu(1), a(2, :) + mu(2));\n",
    "    \n",
    "ax.scatter(mxset,myset,c='b')\n",
    "    \n",
    "    "
   ]
  },
  {
   "cell_type": "code",
   "execution_count": null,
   "metadata": {},
   "outputs": [],
   "source": []
  },
  {
   "cell_type": "markdown",
   "metadata": {},
   "source": [
    "# ---- (Anton Maliev)"
   ]
  },
  {
   "cell_type": "code",
   "execution_count": null,
   "metadata": {},
   "outputs": [],
   "source": []
  }
 ],
 "metadata": {
  "kernelspec": {
   "display_name": "Python 2",
   "language": "python",
   "name": "python2"
  },
  "language_info": {
   "codemirror_mode": {
    "name": "ipython",
    "version": 2
   },
   "file_extension": ".py",
   "mimetype": "text/x-python",
   "name": "python",
   "nbconvert_exporter": "python",
   "pygments_lexer": "ipython2",
   "version": "2.7.15"
  }
 },
 "nbformat": 4,
 "nbformat_minor": 2
}
