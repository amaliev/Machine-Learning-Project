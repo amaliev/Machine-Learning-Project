{
 "cells": [
  {
   "cell_type": "markdown",
   "metadata": {},
   "source": [
    "# Preprocessing"
   ]
  },
  {
   "cell_type": "code",
   "execution_count": 52,
   "metadata": {},
   "outputs": [],
   "source": [
    "import numpy as np;\n",
    "import csv;\n",
    "X = [];\n",
    "with open('Econ_Freedom_Data.csv') as csv_file:\n",
    "    csv_reader = csv.reader(csv_file, delimiter=',');\n",
    "    for row in csv_reader:\n",
    "        if row[0] == \"2016\":\n",
    "            v = [];\n",
    "            for i in range(6,36) :\n",
    "                if (row[i]==\"\") :\n",
    "                    v.append(-1.0);\n",
    "                else :\n",
    "                    v.append(float(row[i]));\n",
    "            X.append(v);\n",
    "i = 0;\n",
    "while i < np.shape(X)[0] :\n",
    "    v = X[i];\n",
    "    if -1.0 in v :\n",
    "        X = np.delete(X,i,0);\n",
    "    else :\n",
    "        i = i+1;\n",
    "meanv = np.repeat(np.reshape(np.asmatrix(X.mean(0)),(1,np.shape(X)[1])),np.shape(X)[0],axis=0);\n",
    "stdv = np.repeat(np.reshape(np.asmatrix(X.std(0)),(1,np.shape(X)[1])),np.shape(X)[0],axis=0);\n",
    "Xs = (X-meanv) / stdv;"
   ]
  },
  {
   "cell_type": "markdown",
   "metadata": {},
   "source": [
    "# k-Means Clustering (Lester Fan)"
   ]
  },
  {
   "cell_type": "markdown",
   "metadata": {},
   "source": [
    "# Gaussian Mixture Model (Bill Lee)"
   ]
  },
  {
   "cell_type": "markdown",
   "metadata": {},
   "source": [
    "# ---- (Anton Maliev)"
   ]
  },
  {
   "cell_type": "code",
   "execution_count": null,
   "metadata": {},
   "outputs": [],
   "source": []
  }
 ],
 "metadata": {
  "kernelspec": {
   "display_name": "Python 3",
   "language": "python",
   "name": "python3"
  },
  "language_info": {
   "codemirror_mode": {
    "name": "ipython",
    "version": 3
   },
   "file_extension": ".py",
   "mimetype": "text/x-python",
   "name": "python",
   "nbconvert_exporter": "python",
   "pygments_lexer": "ipython3",
   "version": "3.6.5"
  }
 },
 "nbformat": 4,
 "nbformat_minor": 2
}
