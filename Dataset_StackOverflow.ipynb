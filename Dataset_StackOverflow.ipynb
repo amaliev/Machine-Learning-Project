{
 "cells": [
  {
   "cell_type": "markdown",
   "metadata": {},
   "source": [
    "# Nonlinear Regression (Anton Maliev)"
   ]
  },
  {
   "cell_type": "markdown",
   "metadata": {},
   "source": [
    "# k-Nearest Neighbors (Lester Fan)"
   ]
  },
  {
   "cell_type": "markdown",
   "metadata": {},
   "source": [
    "# Lasso Least Squares Regression (Bill Lee)"
   ]
  },
  {
   "cell_type": "markdown",
   "metadata": {},
   "source": [
    "### Bill Lee, 165003682 Lasso Least Squares\n"
   ]
  },
  {
   "cell_type": "code",
   "execution_count": 1,
   "metadata": {},
   "outputs": [
    {
     "ename": "NameError",
     "evalue": "name 'labels' is not defined",
     "output_type": "error",
     "traceback": [
      "\u001b[0;31m---------------------------------------------------------------------------\u001b[0m",
      "\u001b[0;31mNameError\u001b[0m                                 Traceback (most recent call last)",
      "\u001b[0;32m<ipython-input-1-ffa7b32634e1>\u001b[0m in \u001b[0;36m<module>\u001b[0;34m()\u001b[0m\n\u001b[1;32m     81\u001b[0m \u001b[0;34m\u001b[0m\u001b[0m\n\u001b[1;32m     82\u001b[0m \u001b[0;34m\u001b[0m\u001b[0m\n\u001b[0;32m---> 83\u001b[0;31m \u001b[0mout\u001b[0m \u001b[0;34m=\u001b[0m \u001b[0mcrossValidationRR\u001b[0m\u001b[0;34m(\u001b[0m\u001b[0mlabels\u001b[0m\u001b[0;34m,\u001b[0m\u001b[0msamples\u001b[0m\u001b[0;34m)\u001b[0m\u001b[0;34m\u001b[0m\u001b[0m\n\u001b[0m\u001b[1;32m     84\u001b[0m \u001b[0mprint\u001b[0m\u001b[0;34m(\u001b[0m\u001b[0;34m\"Best lambda:\"\u001b[0m\u001b[0;34m,\u001b[0m\u001b[0mout\u001b[0m\u001b[0;34m[\u001b[0m\u001b[0;36m0\u001b[0m\u001b[0;34m]\u001b[0m\u001b[0;34m)\u001b[0m\u001b[0;34m\u001b[0m\u001b[0m\n\u001b[1;32m     85\u001b[0m \u001b[0mprint\u001b[0m\u001b[0;34m(\u001b[0m\u001b[0;34m\"This lambda's performance (error array)\"\u001b[0m\u001b[0;34m,\u001b[0m \u001b[0mout\u001b[0m\u001b[0;34m[\u001b[0m\u001b[0;36m1\u001b[0m\u001b[0;34m]\u001b[0m\u001b[0;34m)\u001b[0m\u001b[0;34m\u001b[0m\u001b[0m\n",
      "\u001b[0;31mNameError\u001b[0m: name 'labels' is not defined"
     ]
    }
   ],
   "source": [
    "def rrLS(y, X, lammy):\n",
    "    # adding ones to the bottom \n",
    "    y = np.reshape(y, (X.shape[0],1))\n",
    "    eX = np.concatenate((X,np.ones((X.shape[0],1))),axis=1)\n",
    "    extex = np.matmul(eX.T,eX)\n",
    "    lammyI = lammy*np.identity(extex.shape[0])\n",
    "    extexinv = np.linalg.inv(extex+lammyI)\n",
    "    omegapre = np.matmul(extexinv, eX.T)\n",
    "    return np.matmul(omegapre, y)\n",
    "\n",
    "\n",
    "def scramble(labels,samples):\n",
    "    # shuffling of data points\n",
    "    labels = np.reshape(labels,(506,1))\n",
    "    adjoined = np.concatenate((samples,labels),axis=1)\n",
    "    np.random.shuffle(adjoined)\n",
    "    samples = adjoined.T[0:13].T\n",
    "    labels = adjoined[:,13]\n",
    "    return [labels,samples]\n",
    "\n",
    "def crossValidationRR(labels,samples):\n",
    "    best_error_array = [] # the error associated with the best lambda\n",
    "    postscrambled = scramble(labels,samples)\n",
    "    labels = postscrambled[0]\n",
    "    samples = postscrambled[1]\n",
    "    \n",
    "    error = 100000 # initialized to arbitrary large number \n",
    "    best_lambda = 0 # initialized best lambda\n",
    "    possible_lambda = np.arange(0,1,0.003) # testing all possible lambdas \n",
    "    for lammy in possible_lambda:\n",
    "        error_array = [] # error array associated with lambda based on 3 train-1 validate \n",
    "        final_error_array = [] # error array associated with lambda based on 4 train-1 validate \n",
    "        for k in range(0,5):\n",
    "            if k == 4:\n",
    "                sindex1 = 404\n",
    "                sindex2 = 506\n",
    "                sondex1 = 0\n",
    "                sondex2 = sondex1+101\n",
    "            else:\n",
    "                sindex1 = (k*101)\n",
    "                sindex2 = sindex1+101\n",
    "                sondex1 = ((k+1)*101)\n",
    "                sondex2 = sondex1+101\n",
    "            leave_set = samples[sindex1:sindex2]\n",
    "            leave_labels = labels[sindex1:sindex2]\n",
    "            validation_set = samples[sondex1:sondex2]\n",
    "            validation_labels = labels[sondex1:sondex2]\n",
    "            if k!= 4:\n",
    "                training_set = np.concatenate((samples[sondex2:506],samples[0:sindex1]))\n",
    "                training_labels = np.concatenate((labels[sondex2:506],labels[0:sindex1]))\n",
    "            else:\n",
    "                training_set = samples[sondex2:sindex1]\n",
    "                training_labels = labels[sondex2:sindex1]\n",
    "                \n",
    "            # cross validating to find optimal lambda\n",
    "            omega = rrLS(training_labels,training_set,lammy)\n",
    "            augmented_test = augment(validation_set)\n",
    "            predicted_out = np.matmul(augmented_test, omega)\n",
    "            tlabs = np.reshape(validation_labels,(predicted_out.shape[0],1))\n",
    "            diff = np.linalg.norm(predicted_out-tlabs,2)\n",
    "            error_array.append((diff**2)/predicted_out.shape[0])\n",
    "            \n",
    "            # since i have my lambda, i test its performance on the leave set\n",
    "            newtraining_set = np.concatenate((validation_set,training_set))\n",
    "            newtraining_labels = np.concatenate((validation_labels,training_labels))\n",
    "            omega = rrLS(newtraining_labels,newtraining_set,lammy)\n",
    "            augmented_test = augment(leave_set)\n",
    "            predicted_out = np.matmul(augmented_test,omega)\n",
    "            tlabs = np.reshape(leave_labels,(predicted_out.shape[0],1))\n",
    "            diff = np.linalg.norm(predicted_out-tlabs,2)\n",
    "            final_error_array.append((diff**2)/predicted_out.shape[0])\n",
    "                                             \n",
    "        \n",
    "        if(mean(error_array) < error): # see which labmda gives me the smallest error\n",
    "                error = mean(error_array)\n",
    "                best_lambda = lammy\n",
    "                best_error_array = final_error_array # error array associated with the best lambda on 4train, 1 test\n",
    "                \n",
    "                \n",
    "    return [best_lambda,best_error_array]\n",
    "\n",
    "\n",
    "out = crossValidationRR(labels,samples)\n",
    "print(\"Best lambda:\",out[0])\n",
    "print(\"This lambda's performance (error array)\", out[1])\n",
    "print(\"Average prediction error\", mean(out[1]))"
   ]
  },
  {
   "cell_type": "code",
   "execution_count": null,
   "metadata": {},
   "outputs": [],
   "source": []
  }
 ],
 "metadata": {
  "kernelspec": {
   "display_name": "Python 3",
   "language": "python",
   "name": "python3"
  },
  "language_info": {
   "codemirror_mode": {
    "name": "ipython",
    "version": 3
   },
   "file_extension": ".py",
   "mimetype": "text/x-python",
   "name": "python",
   "nbconvert_exporter": "python",
   "pygments_lexer": "ipython3",
   "version": "3.6.5"
  }
 },
 "nbformat": 4,
 "nbformat_minor": 2
}
